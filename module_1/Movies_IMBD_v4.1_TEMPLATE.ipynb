{
 "cells": [
  {
   "cell_type": "code",
   "execution_count": 1,
   "metadata": {
    "_cell_guid": "b1076dfc-b9ad-4769-8c92-a6c4dae69d19",
    "_uuid": "8f2839f25d086af736a60e9eeb907d3b93b6e0e5",
    "colab": {},
    "colab_type": "code",
    "id": "U2D2gTdJVp90"
   },
   "outputs": [],
   "source": [
    "import numpy as np\n",
    "import pandas as pd\n",
    "import seaborn as sns\n",
    "import matplotlib.pyplot as plt\n",
    "from collections import Counter"
   ]
  },
  {
   "cell_type": "code",
   "execution_count": 2,
   "metadata": {
    "_cell_guid": "79c7e3d0-c299-4dcb-8224-4455121ee9b0",
    "_uuid": "d629ff2d2480ee46fbb7e2d37f6b5fab8052498a",
    "colab": {},
    "colab_type": "code",
    "id": "oyGfxL3eVp9-"
   },
   "outputs": [
    {
     "data": {
      "text/html": [
       "<div>\n",
       "<style scoped>\n",
       "    .dataframe tbody tr th:only-of-type {\n",
       "        vertical-align: middle;\n",
       "    }\n",
       "\n",
       "    .dataframe tbody tr th {\n",
       "        vertical-align: top;\n",
       "    }\n",
       "\n",
       "    .dataframe thead th {\n",
       "        text-align: right;\n",
       "    }\n",
       "</style>\n",
       "<table border=\"1\" class=\"dataframe\">\n",
       "  <thead>\n",
       "    <tr style=\"text-align: right;\">\n",
       "      <th></th>\n",
       "      <th>imdb_id</th>\n",
       "      <th>budget</th>\n",
       "      <th>revenue</th>\n",
       "      <th>original_title</th>\n",
       "      <th>cast</th>\n",
       "      <th>director</th>\n",
       "      <th>tagline</th>\n",
       "      <th>overview</th>\n",
       "      <th>runtime</th>\n",
       "      <th>genres</th>\n",
       "      <th>production_companies</th>\n",
       "      <th>release_date</th>\n",
       "      <th>vote_average</th>\n",
       "      <th>release_year</th>\n",
       "    </tr>\n",
       "  </thead>\n",
       "  <tbody>\n",
       "    <tr>\n",
       "      <th>1317</th>\n",
       "      <td>tt0367594</td>\n",
       "      <td>150000000</td>\n",
       "      <td>474968763</td>\n",
       "      <td>Charlie and the Chocolate Factory</td>\n",
       "      <td>Johnny Depp|Freddie Highmore|AnnaSophia Robb|J...</td>\n",
       "      <td>Tim Burton</td>\n",
       "      <td>Willy Wonka is semi-sweet and nuts.</td>\n",
       "      <td>A young boy wins a tour through the most magni...</td>\n",
       "      <td>115</td>\n",
       "      <td>Adventure|Comedy|Family|Fantasy</td>\n",
       "      <td>Village Roadshow Pictures|The Zanuck Company|W...</td>\n",
       "      <td>7/9/2005</td>\n",
       "      <td>6.5</td>\n",
       "      <td>2005</td>\n",
       "    </tr>\n",
       "    <tr>\n",
       "      <th>1540</th>\n",
       "      <td>tt0404390</td>\n",
       "      <td>15000000</td>\n",
       "      <td>9500000</td>\n",
       "      <td>Running Scared</td>\n",
       "      <td>Paul Walker|Cameron Bright|Vera Farmiga|Chazz ...</td>\n",
       "      <td>Wayne Kramer</td>\n",
       "      <td>Every bullet leaves a trail.</td>\n",
       "      <td>After a drug-op gone bad, Joey Gazelle is put ...</td>\n",
       "      <td>122</td>\n",
       "      <td>Action|Crime|Drama|Thriller</td>\n",
       "      <td>International Production Company|True Grit Pro...</td>\n",
       "      <td>1/6/2006</td>\n",
       "      <td>6.8</td>\n",
       "      <td>2006</td>\n",
       "    </tr>\n",
       "    <tr>\n",
       "      <th>1628</th>\n",
       "      <td>tt0361596</td>\n",
       "      <td>6000000</td>\n",
       "      <td>119114517</td>\n",
       "      <td>Fahrenheit 9/11</td>\n",
       "      <td>Michael Moore|George W. Bush|Ben Affleck|Stevi...</td>\n",
       "      <td>Michael Moore</td>\n",
       "      <td>Controversy... what controversy?</td>\n",
       "      <td>Michael Moore's view on what happened to the U...</td>\n",
       "      <td>122</td>\n",
       "      <td>Documentary</td>\n",
       "      <td>BIM Distribuzione|Fellowship Adventure Group</td>\n",
       "      <td>6/25/2004</td>\n",
       "      <td>6.6</td>\n",
       "      <td>2004</td>\n",
       "    </tr>\n",
       "    <tr>\n",
       "      <th>360</th>\n",
       "      <td>tt1095174</td>\n",
       "      <td>8000000</td>\n",
       "      <td>29010817</td>\n",
       "      <td>New in Town</td>\n",
       "      <td>RenÃ©e Zellweger|Harry Connick Jr.|J.K. Simmon...</td>\n",
       "      <td>Jonas Elmer</td>\n",
       "      <td>She's an executive on the move. But her career...</td>\n",
       "      <td>Lucy Hill is an ambitious up-and-coming execut...</td>\n",
       "      <td>97</td>\n",
       "      <td>Comedy|Romance</td>\n",
       "      <td>Lionsgate|Edmonds Entertainment Group (EEG)|Ep...</td>\n",
       "      <td>1/30/2009</td>\n",
       "      <td>5.3</td>\n",
       "      <td>2009</td>\n",
       "    </tr>\n",
       "    <tr>\n",
       "      <th>1345</th>\n",
       "      <td>tt0386140</td>\n",
       "      <td>75000000</td>\n",
       "      <td>142400065</td>\n",
       "      <td>The Legend of Zorro</td>\n",
       "      <td>Antonio Banderas|Catherine Zeta-Jones|AdriÃ¡n ...</td>\n",
       "      <td>Martin Campbell</td>\n",
       "      <td>This Fall, adventure begins with a Z.</td>\n",
       "      <td>In 1850, the people of California were voting ...</td>\n",
       "      <td>129</td>\n",
       "      <td>Action|Adventure|Drama|Western</td>\n",
       "      <td>Amblin Entertainment|Columbia Pictures Corpora...</td>\n",
       "      <td>10/24/2005</td>\n",
       "      <td>5.8</td>\n",
       "      <td>2005</td>\n",
       "    </tr>\n",
       "  </tbody>\n",
       "</table>\n",
       "</div>"
      ],
      "text/plain": [
       "        imdb_id     budget    revenue                     original_title  \\\n",
       "1317  tt0367594  150000000  474968763  Charlie and the Chocolate Factory   \n",
       "1540  tt0404390   15000000    9500000                     Running Scared   \n",
       "1628  tt0361596    6000000  119114517                    Fahrenheit 9/11   \n",
       "360   tt1095174    8000000   29010817                        New in Town   \n",
       "1345  tt0386140   75000000  142400065                The Legend of Zorro   \n",
       "\n",
       "                                                   cast         director  \\\n",
       "1317  Johnny Depp|Freddie Highmore|AnnaSophia Robb|J...       Tim Burton   \n",
       "1540  Paul Walker|Cameron Bright|Vera Farmiga|Chazz ...     Wayne Kramer   \n",
       "1628  Michael Moore|George W. Bush|Ben Affleck|Stevi...    Michael Moore   \n",
       "360   RenÃ©e Zellweger|Harry Connick Jr.|J.K. Simmon...      Jonas Elmer   \n",
       "1345  Antonio Banderas|Catherine Zeta-Jones|AdriÃ¡n ...  Martin Campbell   \n",
       "\n",
       "                                                tagline  \\\n",
       "1317                Willy Wonka is semi-sweet and nuts.   \n",
       "1540                       Every bullet leaves a trail.   \n",
       "1628                   Controversy... what controversy?   \n",
       "360   She's an executive on the move. But her career...   \n",
       "1345              This Fall, adventure begins with a Z.   \n",
       "\n",
       "                                               overview  runtime  \\\n",
       "1317  A young boy wins a tour through the most magni...      115   \n",
       "1540  After a drug-op gone bad, Joey Gazelle is put ...      122   \n",
       "1628  Michael Moore's view on what happened to the U...      122   \n",
       "360   Lucy Hill is an ambitious up-and-coming execut...       97   \n",
       "1345  In 1850, the people of California were voting ...      129   \n",
       "\n",
       "                               genres  \\\n",
       "1317  Adventure|Comedy|Family|Fantasy   \n",
       "1540      Action|Crime|Drama|Thriller   \n",
       "1628                      Documentary   \n",
       "360                    Comedy|Romance   \n",
       "1345   Action|Adventure|Drama|Western   \n",
       "\n",
       "                                   production_companies release_date  \\\n",
       "1317  Village Roadshow Pictures|The Zanuck Company|W...     7/9/2005   \n",
       "1540  International Production Company|True Grit Pro...     1/6/2006   \n",
       "1628       BIM Distribuzione|Fellowship Adventure Group    6/25/2004   \n",
       "360   Lionsgate|Edmonds Entertainment Group (EEG)|Ep...    1/30/2009   \n",
       "1345  Amblin Entertainment|Columbia Pictures Corpora...   10/24/2005   \n",
       "\n",
       "      vote_average  release_year  \n",
       "1317           6.5          2005  \n",
       "1540           6.8          2006  \n",
       "1628           6.6          2004  \n",
       "360            5.3          2009  \n",
       "1345           5.8          2005  "
      ]
     },
     "execution_count": 2,
     "metadata": {},
     "output_type": "execute_result"
    }
   ],
   "source": [
    "data = pd.read_csv('C:\\\\Users\\\\jacxj\\\\Project_Python\\\\Untitled Folder\\\\resurs\\\\movie_bd_v5.csv')\n",
    "data.sample(5)"
   ]
  },
  {
   "cell_type": "code",
   "execution_count": 3,
   "metadata": {
    "colab": {},
    "colab_type": "code",
    "id": "CoYUnagMVp-C"
   },
   "outputs": [
    {
     "data": {
      "text/html": [
       "<div>\n",
       "<style scoped>\n",
       "    .dataframe tbody tr th:only-of-type {\n",
       "        vertical-align: middle;\n",
       "    }\n",
       "\n",
       "    .dataframe tbody tr th {\n",
       "        vertical-align: top;\n",
       "    }\n",
       "\n",
       "    .dataframe thead th {\n",
       "        text-align: right;\n",
       "    }\n",
       "</style>\n",
       "<table border=\"1\" class=\"dataframe\">\n",
       "  <thead>\n",
       "    <tr style=\"text-align: right;\">\n",
       "      <th></th>\n",
       "      <th>budget</th>\n",
       "      <th>revenue</th>\n",
       "      <th>runtime</th>\n",
       "      <th>vote_average</th>\n",
       "      <th>release_year</th>\n",
       "    </tr>\n",
       "  </thead>\n",
       "  <tbody>\n",
       "    <tr>\n",
       "      <th>count</th>\n",
       "      <td>1.889000e+03</td>\n",
       "      <td>1.889000e+03</td>\n",
       "      <td>1889.000000</td>\n",
       "      <td>1889.000000</td>\n",
       "      <td>1889.000000</td>\n",
       "    </tr>\n",
       "    <tr>\n",
       "      <th>mean</th>\n",
       "      <td>5.431083e+07</td>\n",
       "      <td>1.553653e+08</td>\n",
       "      <td>109.658549</td>\n",
       "      <td>6.140762</td>\n",
       "      <td>2007.860773</td>\n",
       "    </tr>\n",
       "    <tr>\n",
       "      <th>std</th>\n",
       "      <td>4.858721e+07</td>\n",
       "      <td>2.146698e+08</td>\n",
       "      <td>18.017041</td>\n",
       "      <td>0.764763</td>\n",
       "      <td>4.468841</td>\n",
       "    </tr>\n",
       "    <tr>\n",
       "      <th>min</th>\n",
       "      <td>5.000000e+06</td>\n",
       "      <td>2.033165e+06</td>\n",
       "      <td>63.000000</td>\n",
       "      <td>3.300000</td>\n",
       "      <td>2000.000000</td>\n",
       "    </tr>\n",
       "    <tr>\n",
       "      <th>25%</th>\n",
       "      <td>2.000000e+07</td>\n",
       "      <td>3.456058e+07</td>\n",
       "      <td>97.000000</td>\n",
       "      <td>5.600000</td>\n",
       "      <td>2004.000000</td>\n",
       "    </tr>\n",
       "    <tr>\n",
       "      <th>50%</th>\n",
       "      <td>3.800000e+07</td>\n",
       "      <td>8.361541e+07</td>\n",
       "      <td>107.000000</td>\n",
       "      <td>6.100000</td>\n",
       "      <td>2008.000000</td>\n",
       "    </tr>\n",
       "    <tr>\n",
       "      <th>75%</th>\n",
       "      <td>7.200000e+07</td>\n",
       "      <td>1.782626e+08</td>\n",
       "      <td>120.000000</td>\n",
       "      <td>6.600000</td>\n",
       "      <td>2012.000000</td>\n",
       "    </tr>\n",
       "    <tr>\n",
       "      <th>max</th>\n",
       "      <td>3.800000e+08</td>\n",
       "      <td>2.781506e+09</td>\n",
       "      <td>214.000000</td>\n",
       "      <td>8.100000</td>\n",
       "      <td>2015.000000</td>\n",
       "    </tr>\n",
       "  </tbody>\n",
       "</table>\n",
       "</div>"
      ],
      "text/plain": [
       "             budget       revenue      runtime  vote_average  release_year\n",
       "count  1.889000e+03  1.889000e+03  1889.000000   1889.000000   1889.000000\n",
       "mean   5.431083e+07  1.553653e+08   109.658549      6.140762   2007.860773\n",
       "std    4.858721e+07  2.146698e+08    18.017041      0.764763      4.468841\n",
       "min    5.000000e+06  2.033165e+06    63.000000      3.300000   2000.000000\n",
       "25%    2.000000e+07  3.456058e+07    97.000000      5.600000   2004.000000\n",
       "50%    3.800000e+07  8.361541e+07   107.000000      6.100000   2008.000000\n",
       "75%    7.200000e+07  1.782626e+08   120.000000      6.600000   2012.000000\n",
       "max    3.800000e+08  2.781506e+09   214.000000      8.100000   2015.000000"
      ]
     },
     "execution_count": 3,
     "metadata": {},
     "output_type": "execute_result"
    }
   ],
   "source": [
    "data.describe()"
   ]
  },
  {
   "cell_type": "markdown",
   "metadata": {
    "colab_type": "text",
    "id": "DTIt7ezGVp-G"
   },
   "source": [
    "# Предобработка"
   ]
  },
  {
   "cell_type": "code",
   "execution_count": 4,
   "metadata": {
    "colab": {},
    "colab_type": "code",
    "id": "jNb40DwKVp-H"
   },
   "outputs": [],
   "source": [
    "answers = {} # создадим словарь для ответов\n",
    "\n",
    "# тут другие ваши предобработки колонок например:\n",
    "\n",
    "#the time given in the dataset is in string format.\n",
    "#So we need to change this in datetime format\n",
    "# ..."
   ]
  },
  {
   "cell_type": "markdown",
   "metadata": {
    "colab_type": "text",
    "id": "YxZaH-nPVp-L"
   },
   "source": [
    "# 1. У какого фильма из списка самый большой бюджет?"
   ]
  },
  {
   "cell_type": "markdown",
   "metadata": {
    "colab_type": "text",
    "id": "Nd-G5gX6Vp-M"
   },
   "source": [
    "Использовать варианты ответов в коде решения запрещено.    \n",
    "Вы думаете и в жизни у вас будут варианты ответов?)"
   ]
  },
  {
   "cell_type": "code",
   "execution_count": 0,
   "metadata": {
    "colab": {},
    "colab_type": "code",
    "id": "uVnXAY5RVp-O"
   },
   "outputs": [],
   "source": [
    "# в словарь вставляем номер вопроса и ваш ответ на него\n",
    "# Пример: \n",
    "answers['1'] = '2. Spider-Man 3 (tt0413300)'\n",
    "# запишите свой вариант ответа\n",
    "answers['1'] = 'Pirates of the Caribbean: On Stranger Tides'\n",
    "# если ответили верно, можете добавить комментарий со значком \"+\""
   ]
  },
  {
   "cell_type": "code",
   "execution_count": 24,
   "metadata": {
    "colab": {},
    "colab_type": "code",
    "id": "dZwb3m28Vp-S"
   },
   "outputs": [
    {
     "data": {
      "text/plain": [
       "723    Pirates of the Caribbean: On Stranger Tides\n",
       "Name: original_title, dtype: object"
      ]
     },
     "execution_count": 24,
     "metadata": {},
     "output_type": "execute_result"
    }
   ],
   "source": [
    "data[data[\"budget\"]==data[\"budget\"].max()][\"original_title\"]\n"
   ]
  },
  {
   "cell_type": "markdown",
   "metadata": {
    "colab_type": "text",
    "id": "K7L3nbRXVp-X"
   },
   "source": [
    "ВАРИАНТ 2"
   ]
  },
  {
   "cell_type": "code",
   "execution_count": 0,
   "metadata": {
    "colab": {},
    "colab_type": "code",
    "id": "OGaoQI7rVp-X"
   },
   "outputs": [],
   "source": [
    "# можно добавлять разные варианты решения"
   ]
  },
  {
   "cell_type": "markdown",
   "metadata": {
    "colab_type": "text",
    "id": "FNRbbI3vVp-c"
   },
   "source": [
    "# 2. Какой из фильмов самый длительный (в минутах)?"
   ]
  },
  {
   "cell_type": "code",
   "execution_count": 0,
   "metadata": {
    "colab": {},
    "colab_type": "code",
    "id": "vHAoEXNTVp-d"
   },
   "outputs": [],
   "source": [
    "# думаю логику работы с этим словарем вы уже поняли, \n",
    "# по этому не буду больше его дублировать\n",
    "answers['2'] = 'Gods and Generals'"
   ]
  },
  {
   "cell_type": "code",
   "execution_count": 25,
   "metadata": {
    "colab": {},
    "colab_type": "code",
    "id": "ot-VX2XrVp-g"
   },
   "outputs": [
    {
     "data": {
      "text/plain": [
       "1157    Gods and Generals\n",
       "Name: original_title, dtype: object"
      ]
     },
     "execution_count": 25,
     "metadata": {},
     "output_type": "execute_result"
    }
   ],
   "source": [
    "data[data[\"runtime\"]==data[\"runtime\"].max()][\"original_title\"]"
   ]
  },
  {
   "cell_type": "markdown",
   "metadata": {
    "colab_type": "text",
    "id": "bapLlpW8Vp-k"
   },
   "source": [
    "# 3. Какой из фильмов самый короткий (в минутах)?\n",
    "\n",
    "\n",
    "\n"
   ]
  },
  {
   "cell_type": "code",
   "execution_count": 26,
   "metadata": {
    "colab": {},
    "colab_type": "code",
    "id": "YBxaSHuAVp-l"
   },
   "outputs": [
    {
     "data": {
      "text/plain": [
       "768    Winnie the Pooh\n",
       "Name: original_title, dtype: object"
      ]
     },
     "execution_count": 26,
     "metadata": {},
     "output_type": "execute_result"
    }
   ],
   "source": [
    "data[data[\"runtime\"]==data[\"runtime\"].min()][\"original_title\"]"
   ]
  },
  {
   "cell_type": "markdown",
   "metadata": {
    "colab_type": "text",
    "id": "TfQbxbfNVp-p"
   },
   "source": [
    "# 4. Какова средняя длительность фильмов?\n"
   ]
  },
  {
   "cell_type": "code",
   "execution_count": 17,
   "metadata": {
    "colab": {},
    "colab_type": "code",
    "id": "5K6dKZYVVp-q"
   },
   "outputs": [
    {
     "data": {
      "text/plain": [
       "109.6585494970884"
      ]
     },
     "execution_count": 17,
     "metadata": {},
     "output_type": "execute_result"
    }
   ],
   "source": [
    "data[\"runtime\"].mean()"
   ]
  },
  {
   "cell_type": "markdown",
   "metadata": {
    "colab_type": "text",
    "id": "r5TvbnT_Vp-u"
   },
   "source": [
    "# 5. Каково медианное значение длительности фильмов? "
   ]
  },
  {
   "cell_type": "code",
   "execution_count": 18,
   "metadata": {
    "colab": {},
    "colab_type": "code",
    "id": "iBROplKnVp-v"
   },
   "outputs": [
    {
     "data": {
      "text/plain": [
       "107.0"
      ]
     },
     "execution_count": 18,
     "metadata": {},
     "output_type": "execute_result"
    }
   ],
   "source": [
    "data[\"runtime\"].median()"
   ]
  },
  {
   "cell_type": "markdown",
   "metadata": {
    "colab_type": "text",
    "id": "39P-deDSVp-y"
   },
   "source": [
    "# 6. Какой самый прибыльный фильм?\n",
    "#### Внимание! Здесь и далее под «прибылью» или «убытками» понимается разность между сборами и бюджетом фильма. (прибыль = сборы - бюджет) в нашем датасете это будет (profit = revenue - budget) "
   ]
  },
  {
   "cell_type": "code",
   "execution_count": 17,
   "metadata": {
    "colab": {},
    "colab_type": "code",
    "id": "UYZh4T9WVp-y"
   },
   "outputs": [
    {
     "data": {
      "text/plain": [
       "239    Avatar\n",
       "Name: original_title, dtype: object"
      ]
     },
     "execution_count": 17,
     "metadata": {},
     "output_type": "execute_result"
    }
   ],
   "source": [
    "# лучше код получения столбца profit вынести в Предобработку\n",
    "data[\"profit\"]=data[\"revenue\"]-data[\"budget\"]\n",
    "data[data[\"profit\"]==data[\"profit\"].max()][\"original_title\"]"
   ]
  },
  {
   "cell_type": "markdown",
   "metadata": {
    "colab_type": "text",
    "id": "M99JmIX4Vp-2"
   },
   "source": [
    "# 7. Какой фильм самый убыточный? "
   ]
  },
  {
   "cell_type": "code",
   "execution_count": 29,
   "metadata": {
    "colab": {},
    "colab_type": "code",
    "id": "w-D2m4XPVp-3"
   },
   "outputs": [
    {
     "data": {
      "text/plain": [
       "1245    The Lone Ranger\n",
       "Name: original_title, dtype: object"
      ]
     },
     "execution_count": 29,
     "metadata": {},
     "output_type": "execute_result"
    }
   ],
   "source": [
    "data[data[\"profit\"]==data[\"profit\"].min()][\"original_title\"]"
   ]
  },
  {
   "cell_type": "markdown",
   "metadata": {
    "colab_type": "text",
    "id": "wEOM5ERVVp-6"
   },
   "source": [
    "# 8. У скольких фильмов из датасета объем сборов оказался выше бюджета?"
   ]
  },
  {
   "cell_type": "code",
   "execution_count": 32,
   "metadata": {
    "colab": {},
    "colab_type": "code",
    "id": "y00_7HD6Vp-7"
   },
   "outputs": [
    {
     "data": {
      "text/plain": [
       "1478"
      ]
     },
     "execution_count": 32,
     "metadata": {},
     "output_type": "execute_result"
    }
   ],
   "source": [
    "data[data[\"profit\"]>0][\"original_title\"].size"
   ]
  },
  {
   "cell_type": "markdown",
   "metadata": {
    "colab_type": "text",
    "id": "xhpspA9KVp_A"
   },
   "source": [
    "# 9. Какой фильм оказался самым кассовым в 2008 году?"
   ]
  },
  {
   "cell_type": "code",
   "execution_count": 35,
   "metadata": {
    "colab": {},
    "colab_type": "code",
    "id": "MoUyQr9RVp_B"
   },
   "outputs": [
    {
     "data": {
      "text/plain": [
       "599    The Dark Knight\n",
       "Name: original_title, dtype: object"
      ]
     },
     "execution_count": 35,
     "metadata": {},
     "output_type": "execute_result"
    }
   ],
   "source": [
    "data[data[\"revenue\"]==data[data[\"release_year\"]==2008][\"revenue\"].max()][\"original_title\"]"
   ]
  },
  {
   "cell_type": "markdown",
   "metadata": {
    "colab_type": "text",
    "id": "Zi4hDKidVp_F"
   },
   "source": [
    "# 10. Самый убыточный фильм за период с 2012 по 2014 г. (включительно)?\n"
   ]
  },
  {
   "cell_type": "code",
   "execution_count": 41,
   "metadata": {
    "colab": {},
    "colab_type": "code",
    "id": "XqyRmufJVp_F"
   },
   "outputs": [
    {
     "data": {
      "text/plain": [
       "1245    The Lone Ranger\n",
       "Name: original_title, dtype: object"
      ]
     },
     "execution_count": 41,
     "metadata": {},
     "output_type": "execute_result"
    }
   ],
   "source": [
    "data[data.profit==data[(data.release_year>=2012) & (data.release_year<=2014)][\"profit\"].min()][\"original_title\"]"
   ]
  },
  {
   "cell_type": "markdown",
   "metadata": {
    "colab_type": "text",
    "id": "EA7Sa9dkVp_I"
   },
   "source": [
    "# 11. Какого жанра фильмов больше всего?"
   ]
  },
  {
   "cell_type": "code",
   "execution_count": 12,
   "metadata": {
    "colab": {},
    "colab_type": "code",
    "id": "zsJAwJ8QVp_J"
   },
   "outputs": [],
   "source": [
    "# эту задачу тоже можно решать разными подходами, попробуй реализовать разные варианты\n",
    "# если будешь добавлять функцию - выноси ее в предобработку что в начале\n",
    "def genres(x,dct):\n",
    "    #dct={}\n",
    "    for i in x.split(\"|\"):\n",
    "        if i not in dct.keys():\n",
    "            dct[i]=1\n",
    "        else:\n",
    "            dct[i]+=1\n",
    "    return dct\n",
    "#def _all"
   ]
  },
  {
   "cell_type": "markdown",
   "metadata": {
    "colab_type": "text",
    "id": "Ax6g2C8SVp_M"
   },
   "source": [
    "ВАРИАНТ 2"
   ]
  },
  {
   "cell_type": "code",
   "execution_count": 197,
   "metadata": {
    "colab": {},
    "colab_type": "code",
    "id": "otO3SbrSVp_N"
   },
   "outputs": [],
   "source": [
    "dct={}\n",
    "for x in data.genres:\n",
    "    for i in x.split(\"|\"):\n",
    "        if i not in dct.keys():\n",
    "            dct[i]=1\n",
    "        else:\n",
    "            dct[i]+=1"
   ]
  },
  {
   "cell_type": "code",
   "execution_count": 199,
   "metadata": {},
   "outputs": [
    {
     "data": {
      "text/plain": [
       "[('Foreign', 2),\n",
       " ('Documentary', 8),\n",
       " ('Western', 19),\n",
       " ('War', 58),\n",
       " ('History', 62),\n",
       " ('Music', 64),\n",
       " ('Animation', 139),\n",
       " ('Mystery', 168),\n",
       " ('Horror', 176),\n",
       " ('Fantasy', 222),\n",
       " ('Science Fiction', 248),\n",
       " ('Family', 260),\n",
       " ('Romance', 308),\n",
       " ('Crime', 315),\n",
       " ('Adventure', 415),\n",
       " ('Action', 582),\n",
       " ('Thriller', 596),\n",
       " ('Comedy', 683),\n",
       " ('Drama', 782)]"
      ]
     },
     "execution_count": 199,
     "metadata": {},
     "output_type": "execute_result"
    }
   ],
   "source": [
    "sorted(dct.items(), key=lambda x: x[1])"
   ]
  },
  {
   "cell_type": "markdown",
   "metadata": {
    "colab_type": "text",
    "id": "T9_bPWpkVp_Q"
   },
   "source": [
    "# 12. Фильмы какого жанра чаще всего становятся прибыльными? "
   ]
  },
  {
   "cell_type": "code",
   "execution_count": 202,
   "metadata": {
    "colab": {},
    "colab_type": "code",
    "id": "Tmt8MaK1Vp_R"
   },
   "outputs": [],
   "source": [
    "dct={}\n",
    "for x in data.query('profit>0').genres:\n",
    "    for i in x.split(\"|\"):\n",
    "        if i not in dct.keys():\n",
    "            dct[i]=1\n",
    "        else:\n",
    "            dct[i]+=1"
   ]
  },
  {
   "cell_type": "code",
   "execution_count": 203,
   "metadata": {},
   "outputs": [
    {
     "data": {
      "text/plain": [
       "[('Documentary', 7),\n",
       " ('Western', 12),\n",
       " ('War', 41),\n",
       " ('History', 46),\n",
       " ('Music', 47),\n",
       " ('Mystery', 119),\n",
       " ('Animation', 120),\n",
       " ('Horror', 150),\n",
       " ('Fantasy', 188),\n",
       " ('Science Fiction', 195),\n",
       " ('Family', 226),\n",
       " ('Crime', 231),\n",
       " ('Romance', 242),\n",
       " ('Adventure', 337),\n",
       " ('Action', 444),\n",
       " ('Thriller', 446),\n",
       " ('Comedy', 551),\n",
       " ('Drama', 560)]"
      ]
     },
     "execution_count": 203,
     "metadata": {},
     "output_type": "execute_result"
    }
   ],
   "source": [
    "sorted(dct.items(), key=lambda x: x[1])"
   ]
  },
  {
   "cell_type": "markdown",
   "metadata": {
    "colab_type": "text",
    "id": "0F23bgsDVp_U"
   },
   "source": [
    "# 13. У какого режиссера самые большие суммарные кассовые сбооры?"
   ]
  },
  {
   "cell_type": "code",
   "execution_count": 25,
   "metadata": {
    "colab": {},
    "colab_type": "code",
    "id": "K6Z3J8ygVp_X"
   },
   "outputs": [
    {
     "data": {
      "text/plain": [
       "director\n",
       "Simon Hunter            2033165\n",
       "Keanu Reeves            2054941\n",
       "Paul Schrader           2062066\n",
       "Steven Shainberg        2281089\n",
       "David MichÃ´d           2295423\n",
       "                        ...    \n",
       "J.J. Abrams          3579169916\n",
       "Michael Bay          3886938960\n",
       "David Yates          4154295625\n",
       "Christopher Nolan    4167548502\n",
       "Peter Jackson        6490593685\n",
       "Name: revenue, Length: 957, dtype: int64"
      ]
     },
     "execution_count": 25,
     "metadata": {},
     "output_type": "execute_result"
    }
   ],
   "source": [
    "data.groupby(['director']).revenue.sum().sort_values()"
   ]
  },
  {
   "cell_type": "markdown",
   "metadata": {
    "colab_type": "text",
    "id": "PsYC9FgRVp_a"
   },
   "source": [
    "# 14. Какой режисер снял больше всего фильмов в стиле Action?"
   ]
  },
  {
   "cell_type": "code",
   "execution_count": 194,
   "metadata": {},
   "outputs": [],
   "source": [
    "#data[data.genres.str.contains('Action')] \n",
    "dct={}\n",
    "for x,ind in zip(data[data.genres.str.contains('Action')][\"director\"],data[data.genres.str.contains('Action')].index):\n",
    "    for i in x.split('|'):\n",
    "        if i in dct.keys():\n",
    "            dct[i]+=1\n",
    "        else:\n",
    "            dct[i]=1"
   ]
  },
  {
   "cell_type": "code",
   "execution_count": 196,
   "metadata": {},
   "outputs": [
    {
     "data": {
      "text/plain": [
       "[('Colin Trevorrow', 1),\n",
       " ('George Miller', 1),\n",
       " ('Chris Columbus', 1),\n",
       " ('Christopher McQuarrie', 1),\n",
       " ('Ilya Naishuller', 1),\n",
       " ('Ericson Core', 1),\n",
       " ('Denis Villeneuve', 1),\n",
       " ('Josh Trank', 1),\n",
       " ('Aleksander Bach', 1),\n",
       " ('Andy Fickman', 1),\n",
       " ('John Erick Dowdle', 1),\n",
       " ('Anne Fletcher', 1),\n",
       " ('James Gunn', 1),\n",
       " ('Joe Russo', 1),\n",
       " ('Anthony Russo', 1),\n",
       " ('Chad Stahelski', 1),\n",
       " ('David Leitch', 1),\n",
       " ('Don Hall', 1),\n",
       " ('Chris Williams', 1),\n",
       " ('Neil Burger', 1),\n",
       " ('Gareth Edwards', 1),\n",
       " ('Robert Stromberg', 1),\n",
       " ('Dean DeBlois', 1),\n",
       " ('Patrick Hughes', 1),\n",
       " ('Gary Shore', 1),\n",
       " ('Noam Murro', 1),\n",
       " ('Vic Armstrong', 1),\n",
       " ('JosÃ© Padilha', 1),\n",
       " ('George Clooney', 1),\n",
       " ('Brian A Miller', 1),\n",
       " ('Steven Quale', 1),\n",
       " ('Adam Wingard', 1),\n",
       " ('James Cameron', 1),\n",
       " ('Patrick Tatopoulos', 1),\n",
       " ('Shane Acker', 1),\n",
       " ('Steve Carr', 1),\n",
       " ('Christian Alvart', 1),\n",
       " ('Hoyt Yeatman', 1),\n",
       " ('Kevin Macdonald', 1),\n",
       " ('Michael Spierig', 1),\n",
       " ('Peter Spierig', 1),\n",
       " ('Paul McGuigan', 1),\n",
       " ('Troy Duffy', 1),\n",
       " ('Paul Weitz', 1),\n",
       " ('David Bowers', 1),\n",
       " ('Daniel Barber', 1),\n",
       " ('Michael J. Bassett', 1),\n",
       " ('Pierre Coffin', 1),\n",
       " ('Chris Renaud', 1),\n",
       " ('Phillip Noyce', 1),\n",
       " ('Florian Henckel von Donnersmarck', 1),\n",
       " ('Mike Newell', 1),\n",
       " ('Ethan Maniquis', 1),\n",
       " ('Albert Hughes', 1),\n",
       " ('Allen Hughes', 1),\n",
       " ('Tom McGrath', 1),\n",
       " ('Adam McKay', 1),\n",
       " ('Miguel Sapochnik', 1),\n",
       " ('Andy Tennant', 1),\n",
       " ('Jonathan Lynn', 1),\n",
       " ('Jimmy Hayward', 1),\n",
       " ('Robert Luketic', 1),\n",
       " ('John Luessenhop', 1),\n",
       " ('Kevin Smith', 1),\n",
       " ('Jorma Taccone', 1),\n",
       " ('Brian Levant', 1),\n",
       " ('Stuart Beattie', 1),\n",
       " ('Tim Burton', 1),\n",
       " ('Brian Helgeland', 1),\n",
       " ('John A. Davis', 1),\n",
       " ('Chris Nahon', 1),\n",
       " ('Hironobu Sakaguchi', 1),\n",
       " ('Motonori Sakakibara', 1),\n",
       " ('Rod Lurie', 1),\n",
       " ('John Herzfeld', 1),\n",
       " ('Ivan Reitman', 1),\n",
       " ('Demian Lichtenstein', 1),\n",
       " ('John Carpenter', 1),\n",
       " ('Bobby Farrelly', 1),\n",
       " ('Peter Farrelly', 1),\n",
       " ('Barry Levinson', 1),\n",
       " ('Luke Greenfield', 1),\n",
       " ('Les Mayfield', 1),\n",
       " ('Henry Selick', 1),\n",
       " ('Rob Pritts', 1),\n",
       " ('Ernest R. Dickerson', 1),\n",
       " ('DJ Pooh', 1),\n",
       " ('Eric Brevig', 1),\n",
       " ('Ben Stiller', 1),\n",
       " ('Jeff Wadlow', 1),\n",
       " ('Lexi Alexander', 1),\n",
       " ('Peter Segal', 1),\n",
       " ('Mathieu Kassovitz', 1),\n",
       " ('Rob Minkoff', 1),\n",
       " ('Jon Avnet', 1),\n",
       " ('Dennis Dugan', 1),\n",
       " ('Howard McCain', 1),\n",
       " ('Oxide Pang Chun', 1),\n",
       " ('Danny Pang', 1),\n",
       " ('Craig Mazin', 1),\n",
       " ('Simon Hunter', 1),\n",
       " ('Nicolas Winding Refn', 1),\n",
       " ('Rupert Wyatt', 1),\n",
       " ('Patrick Lussier', 1),\n",
       " ('Gary McKendry', 1),\n",
       " ('Scott Stewart', 1),\n",
       " ('Tarsem Singh', 1),\n",
       " ('Chris Gorak', 1),\n",
       " ('Chris Miller', 1),\n",
       " ('Michel Gondry', 1),\n",
       " ('Oliver Parker', 1),\n",
       " ('Joe Cornish', 1),\n",
       " ('Joe Wright', 1),\n",
       " ('John Michael McDonagh', 1),\n",
       " ('Alister Grierson', 1),\n",
       " ('Sean McNamara', 1),\n",
       " ('John Whitesell', 1),\n",
       " ('Benny Chan', 1),\n",
       " ('Corey Yuen Kwai', 1),\n",
       " ('Stuart Baird', 1),\n",
       " ('Kurt Wimmer', 1),\n",
       " ('Jay Roach', 1),\n",
       " ('Jim Gillespie', 1),\n",
       " ('Chuck Russell', 1),\n",
       " ('Betty Thomas', 1),\n",
       " ('Randall Wallace', 1),\n",
       " ('Ron Shelton', 1),\n",
       " ('Simon Wells', 1),\n",
       " ('Roger Michell', 1),\n",
       " ('Michael Apted', 1),\n",
       " ('Tom Dey', 1),\n",
       " ('Joel Schumacher', 1),\n",
       " ('Luis Mandoki', 1),\n",
       " ('Tamra Davis', 1),\n",
       " ('Ron Underwood', 1),\n",
       " ('Kevin Bray', 1),\n",
       " ('Malcolm D. Lee', 1),\n",
       " ('MÃ¥ns MÃ¥rlind', 1),\n",
       " ('BjÃ¶rn Stein', 1),\n",
       " ('Tony Gilroy', 1),\n",
       " ('Mark Andrews', 1),\n",
       " ('Steve Purcell', 1),\n",
       " ('Brenda Chapman', 1),\n",
       " ('Boaz Yakin', 1),\n",
       " ('Andrew Stanton', 1),\n",
       " ('Rian Johnson', 1),\n",
       " ('Mike McCoy', 1),\n",
       " ('Stephen St. Leger', 1),\n",
       " ('James Mather', 1),\n",
       " ('Daniel Espinosa', 1),\n",
       " ('Asger Leth', 1),\n",
       " ('Mabrouk El Mechri', 1),\n",
       " ('Dan Bradley', 1),\n",
       " ('Julie Anne Robinson', 1),\n",
       " ('Anthony Hemingway', 1),\n",
       " ('David Koepp', 1),\n",
       " ('David Barrett', 1),\n",
       " ('Stephen Norrington', 1),\n",
       " ('Jan de Bont', 1),\n",
       " ('Jon Amiel', 1),\n",
       " ('John McTiernan', 1),\n",
       " ('Shane Black', 1),\n",
       " ('Tommy Wirkola', 1),\n",
       " ('Carl Rinsch', 1),\n",
       " ('Gary Fleder', 1),\n",
       " ('Mikael HÃ¥fstrÃ¶m', 1),\n",
       " ('Taylor Hackford', 1),\n",
       " ('Steven Knight', 1),\n",
       " ('Spike Lee', 1),\n",
       " ('Dito Montiel', 1),\n",
       " ('Keanu Reeves', 1),\n",
       " ('Fyodor Bondarchuk', 1),\n",
       " ('Karyn Kusama', 1),\n",
       " ('Adam Shankman', 1),\n",
       " ('John Stockwell', 1),\n",
       " ('Sydney Pollack', 1),\n",
       " ('Terry Gilliam', 1),\n",
       " ('Jay Chandrasekhar', 1),\n",
       " ('Richard Shepard', 1),\n",
       " ('John Dahl', 1),\n",
       " ('Bruce Hunt', 1),\n",
       " ('Alfonso CuarÃ³n', 1),\n",
       " ('Stefen Fangmeier', 1),\n",
       " ('Mel Gibson', 1),\n",
       " ('Bruce Beresford', 1),\n",
       " ('Wolfgang Petersen', 1),\n",
       " ('Jeff Tremaine', 1),\n",
       " ('John Bonito', 1),\n",
       " ('Geoffrey Sax', 1),\n",
       " ('Tony Bill', 1),\n",
       " ('Wayne Kramer', 1),\n",
       " ('Sanjay Gadhvi', 1),\n",
       " ('Phil Joanou', 1),\n",
       " ('Alexander Witt', 1),\n",
       " ('Bibo Bergeron', 1),\n",
       " ('Vicky Jenson', 1),\n",
       " ('Rob Letterman', 1),\n",
       " ('Kerry Conran', 1),\n",
       " ('Oliver Stone', 1),\n",
       " ('Jonathan Hensleigh', 1),\n",
       " ('Pitof', 1),\n",
       " ('Philip Kaufman', 1),\n",
       " ('Trey Parker', 1),\n",
       " ('Steven Brill', 1),\n",
       " ('Frank Coraci', 1),\n",
       " ('Paul Abascal', 1),\n",
       " ('Joseph Kahn', 1),\n",
       " ('David Mamet', 1),\n",
       " ('Jay Russell', 1),\n",
       " ('Robert Redford', 1),\n",
       " ('Philip G. Atwell', 1),\n",
       " ('Michael Davis', 1),\n",
       " ('Xavier Gens', 1),\n",
       " ('Eli Roth', 1),\n",
       " ('Rob Zombie', 1),\n",
       " ('Jason Eisener', 1),\n",
       " ('Dave Meyers', 1),\n",
       " ('Russell Mulcahy', 1),\n",
       " ('Andrew Dominik', 1),\n",
       " ('Doug Lefler', 1),\n",
       " ('David Leland', 1),\n",
       " ('Feng Xiaogang', 1),\n",
       " ('Ben Garant', 1),\n",
       " ('Joel Coen', 1),\n",
       " ('Donald Petrie', 1),\n",
       " ('Paul Verhoeven', 1),\n",
       " ('Roger Spottiswoode', 1),\n",
       " ('Antony Hoffman', 1),\n",
       " ('Stephen T. Kay', 1),\n",
       " ('Don Bluth', 1),\n",
       " ('Gary Goldman', 1),\n",
       " ('Christian Duguay', 1),\n",
       " ('Douglas Aarniokoski', 1),\n",
       " ('Gina Prince-Bythewood', 1),\n",
       " ('Brian Robbins', 1),\n",
       " ('Des McAnuff', 1),\n",
       " ('James Wan', 2),\n",
       " ('Alan Taylor', 2),\n",
       " ('Sam Mendes', 2),\n",
       " ('Joss Whedon', 2),\n",
       " ('Peyton Reed', 2),\n",
       " ('Brad Peyton', 2),\n",
       " ('Wes Ball', 2),\n",
       " ('Michael Mann', 2),\n",
       " ('Paul Feig', 2),\n",
       " ('Ron Howard', 2),\n",
       " ('Camille Delamarre', 2),\n",
       " ('Luc Besson', 2),\n",
       " ('Jonathan Liebesman', 2),\n",
       " ('Matt Reeves', 2),\n",
       " ('Marc Webb', 2),\n",
       " ('Evan Goldberg', 2),\n",
       " ('Seth Rogen', 2),\n",
       " ('Roger Donaldson', 2),\n",
       " ('J.C. Chandor', 2),\n",
       " ('Kenneth Branagh', 2),\n",
       " ('Scott Waugh', 2),\n",
       " ('Alex Proyas', 2),\n",
       " ('James McTeigue', 2),\n",
       " ('NimrÃ³d Antal', 2),\n",
       " ('Gavin Hood', 2),\n",
       " ('Sylvester Stallone', 2),\n",
       " ('Joseph Kosinski', 2),\n",
       " ('Edgar Wright', 2),\n",
       " ('Robert Schwentke', 2),\n",
       " ('James Mangold', 2),\n",
       " ('Neil Marshall', 2),\n",
       " ('Kevin Munroe', 2),\n",
       " ('Peter Howitt', 2),\n",
       " ('Frank Oz', 2),\n",
       " ('Joe Johnston', 2),\n",
       " ('Peter Hyams', 2),\n",
       " ('Timur Bekmambetov', 2),\n",
       " ('David Gordon Green', 2),\n",
       " ('Pete Travis', 2),\n",
       " ('Frank Miller', 2),\n",
       " ('Jason Friedberg', 2),\n",
       " ('Aaron Seltzer', 2),\n",
       " ('Rob Marshall', 2),\n",
       " ('Andrew Niccol', 2),\n",
       " ('Marcus Nispel', 2),\n",
       " ('Ruben Fleischer', 2),\n",
       " ('George Lucas', 2),\n",
       " ('Andrew Davis', 2),\n",
       " ('Walter Hill', 2),\n",
       " ('Rob Bowman', 2),\n",
       " ('Ang Lee', 2),\n",
       " ('Baltasar KormÃ¡kur', 2),\n",
       " ('Mark Steven Johnson', 2),\n",
       " ('F. Gary Gray', 2),\n",
       " ('David Dobkin', 2),\n",
       " ('Clark Johnson', 2),\n",
       " ('Richard Donner', 2),\n",
       " ('William Friedkin', 2),\n",
       " ('Francis Lawrence', 2),\n",
       " ('Courtney Solomon', 2),\n",
       " ('David R. Ellis', 2),\n",
       " ('David S. Goyer', 2),\n",
       " ('Brad Bird', 3),\n",
       " ('Matthew Vaughn', 3),\n",
       " ('Neill Blomkamp', 3),\n",
       " ('Jaume Collet-Serra', 3),\n",
       " ('Breck Eisner', 3),\n",
       " ('Pierre Morel', 3),\n",
       " ('David Ayer', 3),\n",
       " ('Doug Liman', 3),\n",
       " ('Clint Eastwood', 3),\n",
       " ('Phil Lord', 3),\n",
       " ('Christopher Miller', 3),\n",
       " ('McG', 3),\n",
       " ('Stephen Sommers', 3),\n",
       " ('Shawn Levy', 3),\n",
       " ('Jonathan Mostow', 3),\n",
       " ('Jon Favreau', 3),\n",
       " ('Jon Turteltaub', 3),\n",
       " ('Joe Carnahan', 3),\n",
       " ('M. Night Shyamalan', 3),\n",
       " ('Harald Zwart', 3),\n",
       " ('Marc Forster', 3),\n",
       " ('D.J. Caruso', 3),\n",
       " ('Edward Zwick', 3),\n",
       " ('Sam Raimi', 3),\n",
       " ('Barry Sonnenfeld', 3),\n",
       " ('Guillermo del Toro', 3),\n",
       " ('John Woo', 3),\n",
       " ('Uwe Boll', 3),\n",
       " ('David Twohy', 3),\n",
       " ('J.J. Abrams', 4),\n",
       " ('Lana Wachowski', 4),\n",
       " ('Lilly Wachowski', 4),\n",
       " ('Olivier Megaton', 4),\n",
       " ('Guy Ritchie', 4),\n",
       " ('Bryan Singer', 4),\n",
       " ('Tim Story', 4),\n",
       " ('Renny Harlin', 4),\n",
       " ('Mark Neveldine', 4),\n",
       " ('Brian Taylor', 4),\n",
       " ('Dominic Sena', 4),\n",
       " ('Justin Lin', 4),\n",
       " ('Christopher Nolan', 4),\n",
       " ('Simon West', 4),\n",
       " ('John Moore', 4),\n",
       " ('Steven Spielberg', 4),\n",
       " ('Martin Campbell', 4),\n",
       " ('John Singleton', 4),\n",
       " ('Len Wiseman', 4),\n",
       " ('Brett Ratner', 5),\n",
       " ('Quentin Tarantino', 5),\n",
       " ('Zack Snyder', 5),\n",
       " ('Roland Emmerich', 5),\n",
       " ('Andrzej Bartkowiak', 5),\n",
       " ('Louis Leterrier', 5),\n",
       " ('Tony Scott', 5),\n",
       " ('Paul Greengrass', 5),\n",
       " ('Peter Jackson', 5),\n",
       " ('Lee Tamahori', 5),\n",
       " ('Gore Verbinski', 5),\n",
       " ('Rob Cohen', 5),\n",
       " ('Peter Berg', 5),\n",
       " ('Antoine Fuqua', 6),\n",
       " ('Ridley Scott', 6),\n",
       " ('Michael Bay', 7),\n",
       " ('Paul W.S. Anderson', 7),\n",
       " ('Robert Rodriguez', 9)]"
      ]
     },
     "execution_count": 196,
     "metadata": {},
     "output_type": "execute_result"
    }
   ],
   "source": [
    "sorted(dct.items(), key=lambda x: x[1])"
   ]
  },
  {
   "cell_type": "markdown",
   "metadata": {
    "colab_type": "text",
    "id": "PQ0KciD7Vp_f"
   },
   "source": [
    "# 15. Фильмы с каким актером принесли самые высокие кассовые сборы в 2012 году? "
   ]
  },
  {
   "cell_type": "code",
   "execution_count": 80,
   "metadata": {
    "colab": {},
    "colab_type": "code",
    "id": "aga62oeKVp_g"
   },
   "outputs": [],
   "source": [
    "dct={}\n",
    "for x,ind in zip(data[data.release_year==2012].cast,data[data.release_year==2012].index):\n",
    "    for i in x.split('|'):\n",
    "        if i in dct.keys():\n",
    "            dct[i]+=data.iloc[ind,2]\n",
    "        else:\n",
    "            dct[i]=data.iloc[ind,2]"
   ]
  },
  {
   "cell_type": "code",
   "execution_count": 83,
   "metadata": {},
   "outputs": [
    {
     "data": {
      "text/plain": [
       "[('Nicolas Cage', 2106557),\n",
       " ('Josh Lucas', 2106557),\n",
       " ('Sami Gayle', 2106557),\n",
       " ('Danny Huston', 2106557),\n",
       " ('Jason Bateman', 3428048),\n",
       " ('Hope Davis', 3428048),\n",
       " ('Frank Grillo', 3428048),\n",
       " ('Paula Patton', 3428048),\n",
       " ('Michael Nyqvist', 3428048),\n",
       " ('Josh Duhamel', 4636169),\n",
       " ('Rosario Dawson', 4636169),\n",
       " (\"Vincent D'Onofrio\", 4636169),\n",
       " ('50 Cent', 4636169),\n",
       " ('Sarah Gadon', 6063556),\n",
       " ('Juliette Binoche', 6063556),\n",
       " ('Paul Giamatti', 6063556),\n",
       " ('Samantha Morton', 6063556),\n",
       " ('Timothy Spall', 8106475),\n",
       " ('James Kidnie', 8106475),\n",
       " ('Heidi Hawkins', 8106475),\n",
       " ('Matt Damon', 8138788),\n",
       " ('Rosemarie DeWitt', 8138788),\n",
       " ('Lucas Black', 8138788),\n",
       " ('Danielle Panabaker', 8493728),\n",
       " ('Matt Bush', 8493728),\n",
       " ('Katrina Bowden', 8493728),\n",
       " ('Jean-Luc Bilodeau', 8493728),\n",
       " ('David Koechner', 8493728),\n",
       " ('Garrett Hedlund', 8784318),\n",
       " ('Sam Riley', 8784318),\n",
       " ('Tom Sturridge', 8784318),\n",
       " ('Eva Longoria', 9622846),\n",
       " ('Andy GarcÃ\\xada', 9622846),\n",
       " ('Oscar Isaac', 9622846),\n",
       " (\"Peter O'Toole\", 9622846),\n",
       " ('RubÃ©n Blades', 9622846),\n",
       " ('Ashley Greene', 9627492),\n",
       " ('Sebastian Stan', 9627492),\n",
       " ('Tom Felton', 9627492),\n",
       " ('Julianna Guill', 9627492),\n",
       " ('Luke Pasqualino', 9627492),\n",
       " ('Victoria Justice', 11417362),\n",
       " ('Jackson Nicoll', 11417362),\n",
       " ('Chelsea Handler', 11417362),\n",
       " ('Josh Pence', 11417362),\n",
       " ('Jane Levy', 11417362),\n",
       " ('Mark Duplass', 12434778),\n",
       " ('Zoe Saldana', 13231461),\n",
       " ('Jeremy Irons', 13231461),\n",
       " ('Dennis Quaid', 13231461),\n",
       " ('Henry Cavill', 16863583),\n",
       " ('VerÃ³nica Echegui', 16863583),\n",
       " ('Sigourney Weaver', 16863583),\n",
       " ('Caroline Goodall', 16863583),\n",
       " ('Kirsten Dunst', 16890793),\n",
       " ('Sam Rockwell', 19422261),\n",
       " ('Christopher Walken', 19422261),\n",
       " ('Abbie Cornish', 19422261),\n",
       " ('Eddie Murphy', 22044277),\n",
       " ('Allison Janney', 22044277),\n",
       " ('Cliff Curtis', 22044277),\n",
       " ('Clark Duke', 22044277),\n",
       " ('Jennifer Aniston', 24159934),\n",
       " ('Justin Theroux', 24159934),\n",
       " ('Lauren Ambrose', 24159934),\n",
       " ('Whitney Houston', 24637469),\n",
       " ('Cee Lo Green', 24637469),\n",
       " ('Derek Luke', 24637469),\n",
       " ('Mike Epps', 24637469),\n",
       " ('Carmen Ejogo', 24637469),\n",
       " ('Drew Barrymore', 24719215),\n",
       " ('Kristen Bell', 24719215),\n",
       " ('Vinessa Shaw', 24719215),\n",
       " ('Dermot Mulroney', 24719215),\n",
       " ('Olivia Wilde', 25666239),\n",
       " ('Malin Ã…kerman', 26266491),\n",
       " ('Joaquin Phoenix', 28258060),\n",
       " ('Philip Seymour Hoffman', 28258060),\n",
       " ('Amy Adams', 28258060),\n",
       " ('Laura Dern', 28258060),\n",
       " ('Jesse Plemons', 28258060),\n",
       " ('John Cusack', 29657751),\n",
       " ('Luke Evans', 29657751),\n",
       " ('Alice Eve', 29657751),\n",
       " ('Kevin McNally', 29657751),\n",
       " ('Tyler Perry', 30353232),\n",
       " ('Rachel Nichols', 30353232),\n",
       " ('Jean Reno', 30353232),\n",
       " ('Matthew Fox', 30353232),\n",
       " ('Giancarlo Esposito', 30353232),\n",
       " ('Michael Shannon', 31083599),\n",
       " ('Dania Ramirez', 31083599),\n",
       " ('Jamie Chung', 31083599),\n",
       " ('WolÃ© Parks', 31083599),\n",
       " ('Joseph Gilgun', 32204030),\n",
       " ('Lennie James', 32204030),\n",
       " ('Peter Stormare', 32204030),\n",
       " ('Katy Perry', 32726956),\n",
       " ('Russell Brand', 32726956),\n",
       " ('Shannon Woodward', 32726956),\n",
       " ('Rachael Markarian', 32726956),\n",
       " ('Mia Moretti', 32726956),\n",
       " ('John Krasinski', 32858003),\n",
       " ('Gina Carano', 33372606),\n",
       " ('Bill Paxton', 33372606),\n",
       " ('Logan Lerman', 33400000),\n",
       " ('Emma Watson', 33400000),\n",
       " ('Ezra Miller', 33400000),\n",
       " ('Nina Dobrev', 33400000),\n",
       " ('Richard Gere', 35485056),\n",
       " ('Tim Roth', 35485056),\n",
       " ('Brit Marling', 35485056),\n",
       " ('Monica Raymund', 35485056),\n",
       " ('Katherine Heigl', 36893721),\n",
       " ('Debbie Reynolds', 36893721),\n",
       " ('Sherri Shepherd', 36893721),\n",
       " ('Patrick Fischler', 36893721),\n",
       " ('Brad Pitt', 37930465),\n",
       " ('Scoot McNairy', 37930465),\n",
       " ('Ben Mendelsohn', 37930465),\n",
       " ('James Gandolfini', 37930465),\n",
       " ('Ray Liotta', 37930465),\n",
       " ('Chris Sarandon', 40346186),\n",
       " ('James Hong', 40346186),\n",
       " ('Catherine Chan', 40346186),\n",
       " ('Robert John Burke', 40346186),\n",
       " ('Karl Urban', 41037742),\n",
       " ('Olivia Thirlby', 41037742),\n",
       " ('Lena Headey', 41037742),\n",
       " ('Wood Harris', 41037742),\n",
       " ('Jason Cope', 41037742),\n",
       " ('Isabel Lucas', 44806783),\n",
       " ('Adrianne Palicki', 44806783),\n",
       " ('Jamie Bell', 46221189),\n",
       " ('Ed Harris', 46221189),\n",
       " ('Edward Burns', 46221189),\n",
       " ('Blake Lively', 47000000),\n",
       " ('Aaron Taylor-Johnson', 47000000),\n",
       " ('Benicio del Toro', 47000000),\n",
       " ('Paul Dano', 47042000),\n",
       " ('Noah Segan', 47042000),\n",
       " ('Jake Gyllenhaal', 48126384),\n",
       " ('Michael PeÃ±a', 48126384),\n",
       " ('Natalie Martinez', 48126384),\n",
       " ('David Harbour', 48126384),\n",
       " ('Cuba Gooding Jr.', 50365377),\n",
       " ('Daniela Ruah', 50365377),\n",
       " ('Terrence Howard', 50365377),\n",
       " ('Adelaide Clemens', 52302796),\n",
       " ('Kit Harington', 52302796),\n",
       " ('Sean Bean', 52302796),\n",
       " ('Carrie-Anne Moss', 52302796),\n",
       " ('Radha Mitchell', 52302796),\n",
       " ('Shia LaBeouf', 53676580),\n",
       " ('Mia Wasikowska', 53676580),\n",
       " ('Alison Brie', 53909751),\n",
       " ('Sean Hayes', 54819301),\n",
       " ('Will Sasso', 54819301),\n",
       " ('Chris Diamantopoulos', 54819301),\n",
       " ('SofÃ\\xada Vergara', 54819301),\n",
       " ('Eva Amurri Martino', 58058367),\n",
       " ('Leighton Meester', 58058367),\n",
       " ('Andy Samberg', 58058367),\n",
       " ('Diego Boneta', 59418613),\n",
       " ('Julianne Hough', 59418613),\n",
       " ('Maggie Smith', 59520298),\n",
       " ('Tom Courtenay', 59520298),\n",
       " ('Pauline Collins', 59520298),\n",
       " ('Michael Gambon', 59520298),\n",
       " ('Ben Foster', 63100000),\n",
       " ('J.K. Simmons', 63100000),\n",
       " ('Kristen Connolly', 66486080),\n",
       " ('Anna Hutchison', 66486080),\n",
       " ('Fran Kranz', 66486080),\n",
       " ('Jesse Williams', 66486080),\n",
       " ('Jared Gilman', 68263166),\n",
       " ('Kara Hayward', 68263166),\n",
       " ('Bill Murray', 68263166),\n",
       " ('Devon Bostick', 77112176),\n",
       " ('Steve Zahn', 77112176),\n",
       " ('Peyton List', 77112176),\n",
       " ('Rachael Harris', 77112176),\n",
       " ('Zachary Gordon', 77112176),\n",
       " ('Joseph Gordon-Levitt', 78125599),\n",
       " ('Cameron Diaz', 79700000),\n",
       " ('Jennifer Lopez', 79700000),\n",
       " ('Roselyn SÃ¡nchez', 81272766),\n",
       " ('Emilio Rivera', 81272766),\n",
       " ('Nestor Serrano', 81272766),\n",
       " ('Gonzalo Menendez', 81272766),\n",
       " ('Alexander Asefa', 81272766),\n",
       " ('Charlie Tahan', 81491068),\n",
       " ('Winona Ryder', 81491068),\n",
       " (\"Catherine O'Hara\", 81491068),\n",
       " ('Martin Short', 81491068),\n",
       " ('Martin Landau', 81491068),\n",
       " ('Natasha Calis', 85446075),\n",
       " ('Madison Davenport', 85446075),\n",
       " ('Kyra Sedgwick', 85446075),\n",
       " ('Rob LaBelle', 85446075),\n",
       " ('Leslie Mann', 88058786),\n",
       " ('Maude Apatow', 88058786),\n",
       " ('Susan Sarandon', 93543423),\n",
       " ('Jerry Ferrara', 96070507),\n",
       " ('Meagan Good', 96070507),\n",
       " ('Regina Hall', 96070507),\n",
       " ('Kevin Hart', 96070507),\n",
       " ('Oliver Cooper', 100000000),\n",
       " ('Jonathan Daniel Brown', 100000000),\n",
       " ('Thomas Mann', 100000000),\n",
       " ('Dax Flame', 100000000),\n",
       " ('Kirby Bliss Blanton', 100000000),\n",
       " ('Emily Blunt', 100951751),\n",
       " ('Kodi Smit-McPhee', 107139399),\n",
       " ('Tucker Albrizzi', 107139399),\n",
       " ('Jodelle Ferland', 107139399),\n",
       " ('Casey Affleck', 107139399),\n",
       " ('Benjamin Walker', 112265139),\n",
       " ('Dominic Cooper', 112265139),\n",
       " ('Anthony Mackie', 112265139),\n",
       " ('Mary Elizabeth Winstead', 112265139),\n",
       " ('Rufus Sewell', 112265139),\n",
       " ('Meryl Streep', 114281051),\n",
       " ('Steve Carell', 114281051),\n",
       " ('Jean Smart', 114281051),\n",
       " ('Marin Ireland', 114281051),\n",
       " ('Skylar Astin', 115350426),\n",
       " ('Brittany Snow', 115350426),\n",
       " ('Anna Camp', 115350426),\n",
       " ('Rebel Wilson', 115350426),\n",
       " ('Hugh Grant', 118338361),\n",
       " ('Jeremy Piven', 118338361),\n",
       " ('Brian Blessed', 118338361),\n",
       " ('Billy Crystal', 119772232),\n",
       " ('Bette Midler', 119772232),\n",
       " ('Marisa Tomei', 119772232),\n",
       " ('Tom Everett Scott', 119772232),\n",
       " ('Bailee Madison', 119772232),\n",
       " ('Daniel Radcliffe', 127730736),\n",
       " ('Sidney Johnston', 127730736),\n",
       " ('Alisa Khazanova', 127730736),\n",
       " ('Mary Stockley', 127730736),\n",
       " ('Jeffrey Dean Morgan', 130252858),\n",
       " ('Tom Hanks', 130482868),\n",
       " ('Halle Berry', 130482868),\n",
       " ('Jim Broadbent', 130482868),\n",
       " ('Hugo Weaving', 130482868),\n",
       " ('Stephen Rea', 132400000),\n",
       " ('Theo James', 132400000),\n",
       " ('India Eisley', 132400000),\n",
       " ('Jason Clarke', 132820716),\n",
       " ('Joel Edgerton', 132820716),\n",
       " ('Jim Sturgess', 138589343),\n",
       " ('Kathryn McCormick', 140470746),\n",
       " ('Ryan Guzman', 140470746),\n",
       " ('Stephen Boss', 140470746),\n",
       " ('Megan Boone', 140470746),\n",
       " ('Jessica Guadix', 140470746),\n",
       " ('Jason Segel', 141968537),\n",
       " ('Katie Featherston', 142817992),\n",
       " ('Kathryn Newton', 142817992),\n",
       " ('Matt Shively', 142817992),\n",
       " ('Brady Allen', 142817992),\n",
       " ('Sprague Grayden', 142817992),\n",
       " ('Dane DeHaan', 145000000),\n",
       " ('Alex Russell', 145000000),\n",
       " ('Michael B. Jordan', 145000000),\n",
       " ('Michael Kelly', 145000000),\n",
       " ('Anna Wood', 145000000),\n",
       " ('Paul Rudd', 145618720),\n",
       " ('Salma Hayek', 165338361),\n",
       " ('Matthew McConaughey', 167221571),\n",
       " ('Olivia Munn', 167221571),\n",
       " ('Cody Horn', 167221571),\n",
       " ('Alex Pettyfer', 167221571),\n",
       " ('Sayed Badreya', 179379533),\n",
       " ('Aasif Mandvi', 179379533),\n",
       " ('Anna Faris', 179379533),\n",
       " ('Naomi Watts', 180274123),\n",
       " ('Tom Holland', 180274123),\n",
       " ('Samuel Joslin', 180274123),\n",
       " ('Oaklee Pendergast', 180274123),\n",
       " ('Julia Roberts', 183018522),\n",
       " ('Lily Collins', 183018522),\n",
       " ('Armie Hammer', 183018522),\n",
       " ('Nathan Lane', 183018522),\n",
       " ('Martin Klebba', 183018522),\n",
       " ('Jessica Chastain', 186497296),\n",
       " ('Chris Pratt', 186730467),\n",
       " ('Rachel McAdams', 196114570),\n",
       " ('Sam Neill', 196114570),\n",
       " ('Scott Speedman', 196114570),\n",
       " ('Jessica Lange', 196114570),\n",
       " ('Jessica Biel', 198802074),\n",
       " ('Bill Nighy', 198802074),\n",
       " ('Jonah Hill', 201585328),\n",
       " ('Brie Larson', 201585328),\n",
       " ('Dave Franco', 201585328),\n",
       " ('Ellie Kemper', 201585328),\n",
       " ('Robert De Niro', 205738714),\n",
       " ('Jacki Weaver', 205738714),\n",
       " ('Chris Tucker', 205738714),\n",
       " ('Denzel Washington', 208076205),\n",
       " ('Ryan Reynolds', 208076205),\n",
       " ('Vera Farmiga', 208076205),\n",
       " ('Joel Kinnaman', 208076205),\n",
       " ('Ewan McGregor', 213646729),\n",
       " ('Colin Farrell', 218224335),\n",
       " ('Richard Jenkins', 218340595),\n",
       " ('Werner Herzog', 218340595),\n",
       " ('Bradley Cooper', 218970175),\n",
       " ('Michael Ealy', 228470507),\n",
       " ('Ben Affleck', 232324128),\n",
       " ('Alan Arkin', 232324128),\n",
       " ('John Goodman', 232324128),\n",
       " ('Victor Garber', 232324128),\n",
       " ('Jason Biggs', 234989584),\n",
       " ('Alyson Hannigan', 234989584),\n",
       " ('Chris Klein', 234989584),\n",
       " ('Thomas Ian Nicholas', 234989584),\n",
       " ('Milla Jovovich', 240159255),\n",
       " ('Sienna Guillory', 240159255),\n",
       " ('Michelle Rodriguez', 240159255),\n",
       " ('Aryana Engineer', 240159255),\n",
       " ('Li Bingbing', 240159255),\n",
       " ('Johnny Depp', 245527149),\n",
       " ('Helena Bonham Carter', 245527149),\n",
       " ('Jackie Earle Haley', 245527149),\n",
       " ('Jonny Lee Miller', 245527149),\n",
       " ('Michelle Pfeiffer', 257961927),\n",
       " ('Megan Fox', 267438319),\n",
       " ('David Oyelowo', 268705972),\n",
       " ('Jeremy Renner', 276572938),\n",
       " ('Rachel Weisz', 276572938),\n",
       " ('Scott Glenn', 276572938),\n",
       " ('Stacy Keach', 276572938),\n",
       " ('Tom Cruise', 277759208),\n",
       " ('Lynn Collins', 284139100),\n",
       " ('Willem Dafoe', 284139100),\n",
       " ('Edgar RamÃ\\xadrez', 301000000),\n",
       " ('Alexander SkarsgÃ¥rd', 303025485),\n",
       " ('Rihanna', 303025485),\n",
       " ('Tadanobu Asano', 303025485),\n",
       " ('Jude Law', 306941670),\n",
       " ('Isla Fisher', 306941670),\n",
       " ('Sylvester Stallone', 312573423),\n",
       " ('Dolph Lundgren', 312573423),\n",
       " ('Arnold Schwarzenegger', 312573423),\n",
       " ('Chris Pine', 319376448),\n",
       " ('Edward Norton', 344836104),\n",
       " ('Sam Worthington', 347221189),\n",
       " ('Zac Efron', 348840316),\n",
       " ('Danny DeVito', 348840316),\n",
       " ('Taylor Swift', 348840316),\n",
       " ('Ed Helms', 348840316),\n",
       " ('Rob Riggle', 348840316),\n",
       " ('Anna Kendrick', 350316209),\n",
       " ('Jason Statham', 352919609),\n",
       " ('Dwayne Johnson', 355692760),\n",
       " ('Kristin Davis', 355692760),\n",
       " ('Vanessa Hudgens', 355692760),\n",
       " ('Luis GuzmÃ¡n', 355692760),\n",
       " ('Brendan Gleeson', 356072317),\n",
       " ('Steve Buscemi', 358375603),\n",
       " ('David Spade', 358375603),\n",
       " ('Kevin James', 358375603),\n",
       " ('Selena Gomez', 358375603),\n",
       " ('Alec Baldwin', 366360283),\n",
       " ('Famke Janssen', 376141306),\n",
       " ('Rade Serbedzija', 376141306),\n",
       " ('Luke Grimes', 376141306),\n",
       " ('Brooklyn Decker', 382725485),\n",
       " ('Kate Beckinsale', 394302074),\n",
       " ('Sam Claflin', 396600000),\n",
       " ('Ian McShane', 396600000),\n",
       " ('Noomi Rapace', 403170142),\n",
       " ('Idris Elba', 403170142),\n",
       " ('Maggie Grace', 408345336),\n",
       " ('CiarÃ¡n Hinds', 411869836),\n",
       " ('Adam Sandler', 416433970),\n",
       " ('Mark Strong', 416959816),\n",
       " ('Jamie Foxx', 425368238),\n",
       " ('Christoph Waltz', 425368238),\n",
       " ('Leonardo DiCaprio', 425368238),\n",
       " ('Samuel L. Jackson', 425368238),\n",
       " ('Michael Fassbender', 436542748),\n",
       " ('Russell Crowe', 441809770),\n",
       " ('Amanda Seyfried', 441809770),\n",
       " ('Kerry Washington', 447412515),\n",
       " ('Bruce Willis', 449378341),\n",
       " ('John C. Reilly', 471222889),\n",
       " ('Sarah Silverman', 471222889),\n",
       " ('Jack McBrayer', 471222889),\n",
       " ('Jamie Elman', 471222889),\n",
       " ('Guy Pearce', 489050752),\n",
       " ('Rosamund Pike', 519340595),\n",
       " ('Jane Lynch', 526042190),\n",
       " ('Kelly Macdonald', 538983207),\n",
       " ('Julie Walters', 538983207),\n",
       " ('Kevin McKidd', 538983207),\n",
       " ('Bryan Cranston', 540910192),\n",
       " ('Mila Kunis', 549368315),\n",
       " ('Seth MacFarlane', 549368315),\n",
       " ('Joel McHale', 549368315),\n",
       " ('Channing Tatum', 598294075),\n",
       " ('Billy Connolly', 598503505),\n",
       " ('Suraj Sharma', 609016565),\n",
       " ('Irrfan Khan', 609016565),\n",
       " ('Ayush Tandon', 609016565),\n",
       " ('Gautam Belur', 609016565),\n",
       " ('Adil Hussain', 609016565),\n",
       " ('Mark Wahlberg', 612468315),\n",
       " ('Giovanni Ribisi', 612468315),\n",
       " ('Will Smith', 624026776),\n",
       " ('Josh Brolin', 624026776),\n",
       " ('Michael Stuhlbarg', 624026776),\n",
       " ('Taylor Kitsch', 634164585),\n",
       " ('Liam Neeson', 677141306),\n",
       " ('Liam Hemsworth', 691210692),\n",
       " ('Woody Harrelson', 710632953),\n",
       " ('Tommy Lee Jones', 738307827),\n",
       " ('Ben Stiller', 746921274),\n",
       " ('David Schwimmer', 746921274),\n",
       " ('Chris Rock', 746921274),\n",
       " ('Hugh Jackman', 748751440),\n",
       " ('Andrew Garfield', 752215857),\n",
       " ('Emma Stone', 752215857),\n",
       " ('Martin Sheen', 752215857),\n",
       " ('Frances McDormand', 755060062),\n",
       " ('Charlize Theron', 799770142),\n",
       " ('Rhys Ifans', 806125608),\n",
       " ('Taylor Lautner', 829000000),\n",
       " ('Peter Facinelli', 829000000),\n",
       " ('Elizabeth Reaser', 829000000),\n",
       " ('Elizabeth Banks', 829566659),\n",
       " ('Robert Pattinson', 835063556),\n",
       " ('Ray Romano', 877244782),\n",
       " ('Chris Wedge', 877244782),\n",
       " ('Jennifer Lawrence', 896949406),\n",
       " ('John Leguizamo', 914138503),\n",
       " ('Ian McKellen', 1017003568),\n",
       " ('Martin Freeman', 1017003568),\n",
       " ('Richard Armitage', 1017003568),\n",
       " ('Andy Serkis', 1017003568),\n",
       " ('Cate Blanchett', 1017003568),\n",
       " ('Christian Bale', 1081041287),\n",
       " ('Michael Caine', 1081041287),\n",
       " ('Gary Oldman', 1081041287),\n",
       " ('Josh Hutcherson', 1091710235),\n",
       " ('Daniel Craig', 1108561013),\n",
       " ('Judi Dench', 1108561013),\n",
       " ('Javier Bardem', 1108561013),\n",
       " ('Naomie Harris', 1108561013),\n",
       " ('Seann William Scott', 1112234366),\n",
       " ('Tom Hardy', 1134717867),\n",
       " ('Emma Thompson', 1163009983),\n",
       " ('Kristen Stewart', 1234384318),\n",
       " ('Sacha Baron Cohen', 1368110577),\n",
       " ('Ralph Fiennes', 1409561013),\n",
       " ('Robert Downey Jr.', 1519557910),\n",
       " ('Chris Evans', 1519557910),\n",
       " ('Mark Ruffalo', 1519557910),\n",
       " ('Scarlett Johansson', 1519557910),\n",
       " ('Anne Hathaway', 1522851057),\n",
       " ('Denis Leary', 1629460639),\n",
       " ('Chris Hemsworth', 2027450773)]"
      ]
     },
     "execution_count": 83,
     "metadata": {},
     "output_type": "execute_result"
    }
   ],
   "source": [
    "sorted(dct.items(), key=lambda x: x[1])"
   ]
  },
  {
   "cell_type": "markdown",
   "metadata": {
    "colab_type": "text",
    "id": "mWHyyL7QVp_j"
   },
   "source": [
    "# 16. Какой актер снялся в большем количестве высокобюджетных фильмов?"
   ]
  },
  {
   "cell_type": "code",
   "execution_count": 89,
   "metadata": {
    "colab": {},
    "colab_type": "code",
    "id": "qQtmHKTFVp_k"
   },
   "outputs": [],
   "source": [
    "dct={}\n",
    "for x,ind in zip(data[data.budget>data.budget.mean()][\"cast\"],data[data.budget>data.budget.mean()].index):\n",
    "    for i in x.split('|'):\n",
    "        if i in dct.keys():\n",
    "            dct[i]+=1\n",
    "        else:\n",
    "            dct[i]=1"
   ]
  },
  {
   "cell_type": "code",
   "execution_count": 93,
   "metadata": {},
   "outputs": [
    {
     "data": {
      "text/plain": [
       "('Matt Damon', 18)"
      ]
     },
     "execution_count": 93,
     "metadata": {},
     "output_type": "execute_result"
    }
   ],
   "source": [
    "sorted(dct.items(), key=lambda x: x[1])[-1]"
   ]
  },
  {
   "cell_type": "markdown",
   "metadata": {
    "colab_type": "text",
    "id": "NIh6AaW5Vp_n"
   },
   "source": [
    "# 17. В фильмах какого жанра больше всего снимался Nicolas Cage? "
   ]
  },
  {
   "cell_type": "code",
   "execution_count": 94,
   "metadata": {
    "colab": {},
    "colab_type": "code",
    "id": "H74SJDIBVp_n"
   },
   "outputs": [],
   "source": [
    "dct={}\n",
    "for x,ind in zip(data[data.cast.str.contains('Nicolas Cage')][\"genres\"],data[data.cast.str.contains('Nicolas Cage')].index):\n",
    "    for i in x.split('|'):\n",
    "        if i in dct.keys():\n",
    "            dct[i]+=1\n",
    "        else:\n",
    "            dct[i]=1"
   ]
  },
  {
   "cell_type": "code",
   "execution_count": 95,
   "metadata": {},
   "outputs": [
    {
     "data": {
      "text/plain": [
       "{'Thriller': 15,\n",
       " 'Action': 17,\n",
       " 'Science Fiction': 4,\n",
       " 'Adventure': 7,\n",
       " 'Drama': 12,\n",
       " 'Mystery': 3,\n",
       " 'Crime': 10,\n",
       " 'Animation': 3,\n",
       " 'Family': 3,\n",
       " 'Fantasy': 8,\n",
       " 'Comedy': 6,\n",
       " 'History': 2,\n",
       " 'War': 1,\n",
       " 'Horror': 1,\n",
       " 'Romance': 1}"
      ]
     },
     "execution_count": 95,
     "metadata": {},
     "output_type": "execute_result"
    }
   ],
   "source": [
    "dct"
   ]
  },
  {
   "cell_type": "markdown",
   "metadata": {
    "colab_type": "text",
    "id": "RqOmPRfWVp_q"
   },
   "source": [
    "# 18. Самый убыточный фильм от Paramount Pictures"
   ]
  },
  {
   "cell_type": "code",
   "execution_count": 99,
   "metadata": {
    "colab": {},
    "colab_type": "code",
    "id": "9E_B0Y96Vp_r"
   },
   "outputs": [
    {
     "data": {
      "text/html": [
       "<div>\n",
       "<style scoped>\n",
       "    .dataframe tbody tr th:only-of-type {\n",
       "        vertical-align: middle;\n",
       "    }\n",
       "\n",
       "    .dataframe tbody tr th {\n",
       "        vertical-align: top;\n",
       "    }\n",
       "\n",
       "    .dataframe thead th {\n",
       "        text-align: right;\n",
       "    }\n",
       "</style>\n",
       "<table border=\"1\" class=\"dataframe\">\n",
       "  <thead>\n",
       "    <tr style=\"text-align: right;\">\n",
       "      <th></th>\n",
       "      <th>imdb_id</th>\n",
       "      <th>budget</th>\n",
       "      <th>revenue</th>\n",
       "      <th>original_title</th>\n",
       "      <th>cast</th>\n",
       "      <th>director</th>\n",
       "      <th>tagline</th>\n",
       "      <th>overview</th>\n",
       "      <th>runtime</th>\n",
       "      <th>genres</th>\n",
       "      <th>production_companies</th>\n",
       "      <th>release_date</th>\n",
       "      <th>vote_average</th>\n",
       "      <th>release_year</th>\n",
       "      <th>profit</th>\n",
       "      <th>Action</th>\n",
       "    </tr>\n",
       "  </thead>\n",
       "  <tbody>\n",
       "    <tr>\n",
       "      <th>925</th>\n",
       "      <td>tt0267626</td>\n",
       "      <td>100000000</td>\n",
       "      <td>35168966</td>\n",
       "      <td>K-19: The Widowmaker</td>\n",
       "      <td>Harrison Ford|Liam Neeson|Peter Sarsgaard|Joss...</td>\n",
       "      <td>Kathryn Bigelow</td>\n",
       "      <td>Fate has found its hero.</td>\n",
       "      <td>When Russia's first nuclear submarine malfunct...</td>\n",
       "      <td>138</td>\n",
       "      <td>Thriller|Drama|History</td>\n",
       "      <td>Paramount Pictures|Intermedia Films|National G...</td>\n",
       "      <td>7/19/2002</td>\n",
       "      <td>6.0</td>\n",
       "      <td>2002</td>\n",
       "      <td>-64831034</td>\n",
       "      <td>0</td>\n",
       "    </tr>\n",
       "  </tbody>\n",
       "</table>\n",
       "</div>"
      ],
      "text/plain": [
       "       imdb_id     budget   revenue        original_title  \\\n",
       "925  tt0267626  100000000  35168966  K-19: The Widowmaker   \n",
       "\n",
       "                                                  cast         director  \\\n",
       "925  Harrison Ford|Liam Neeson|Peter Sarsgaard|Joss...  Kathryn Bigelow   \n",
       "\n",
       "                      tagline  \\\n",
       "925  Fate has found its hero.   \n",
       "\n",
       "                                              overview  runtime  \\\n",
       "925  When Russia's first nuclear submarine malfunct...      138   \n",
       "\n",
       "                     genres  \\\n",
       "925  Thriller|Drama|History   \n",
       "\n",
       "                                  production_companies release_date  \\\n",
       "925  Paramount Pictures|Intermedia Films|National G...    7/19/2002   \n",
       "\n",
       "     vote_average  release_year    profit  Action  \n",
       "925           6.0          2002 -64831034       0  "
      ]
     },
     "execution_count": 99,
     "metadata": {},
     "output_type": "execute_result"
    }
   ],
   "source": [
    "data[data.profit==data[data.production_companies.str.contains(\"Paramount Pictures\")][\"profit\"].min()]"
   ]
  },
  {
   "cell_type": "markdown",
   "metadata": {
    "colab_type": "text",
    "id": "vS8Ur6ddVp_u"
   },
   "source": [
    "# 19. Какой год стал самым успешным по суммарным кассовым сборам?"
   ]
  },
  {
   "cell_type": "code",
   "execution_count": 102,
   "metadata": {
    "colab": {},
    "colab_type": "code",
    "id": "Dnbt4GdIVp_v"
   },
   "outputs": [
    {
     "data": {
      "text/plain": [
       "release_year\n",
       "2000    10664099805\n",
       "2001    13017764865\n",
       "2002    14136361487\n",
       "2003    14346123312\n",
       "2006    14775042320\n",
       "2005    15309425558\n",
       "2004    15663430720\n",
       "2007    18162406801\n",
       "2008    18252781990\n",
       "2009    20261791024\n",
       "2010    21071204961\n",
       "2011    22676791872\n",
       "2012    23079001687\n",
       "2013    23213799791\n",
       "2014    23405862953\n",
       "2015    25449202382\n",
       "Name: revenue, dtype: int64"
      ]
     },
     "execution_count": 102,
     "metadata": {},
     "output_type": "execute_result"
    }
   ],
   "source": [
    "data.groupby(\"release_year\").revenue.sum().sort_values()"
   ]
  },
  {
   "cell_type": "markdown",
   "metadata": {
    "colab_type": "text",
    "id": "JAzJh4QAVp_z"
   },
   "source": [
    "# 20. Какой самый прибыльный год для студии Warner Bros?"
   ]
  },
  {
   "cell_type": "code",
   "execution_count": 104,
   "metadata": {
    "colab": {},
    "colab_type": "code",
    "id": "wgVu02DEVp_0"
   },
   "outputs": [
    {
     "data": {
      "text/plain": [
       "release_year\n",
       "2000     452631386\n",
       "2006     620170743\n",
       "2015     870368348\n",
       "2002    1022709901\n",
       "2012    1258020056\n",
       "2001    1343545668\n",
       "2005    1551980298\n",
       "2004    1631933725\n",
       "2013    1636453400\n",
       "2009    1822454136\n",
       "2003    1855493377\n",
       "2011    1871393682\n",
       "2010    1974712985\n",
       "2008    2134595031\n",
       "2007    2201675217\n",
       "2014    2295464519\n",
       "Name: profit, dtype: int64"
      ]
     },
     "execution_count": 104,
     "metadata": {},
     "output_type": "execute_result"
    }
   ],
   "source": [
    "data[data.production_companies.str.contains(\"Warner Bros\")].groupby(\"release_year\").profit.sum().sort_values()"
   ]
  },
  {
   "cell_type": "markdown",
   "metadata": {
    "colab_type": "text",
    "id": "8Im1S2HRVp_4"
   },
   "source": [
    "# 21. В каком месяце за все годы суммарно вышло больше всего фильмов?"
   ]
  },
  {
   "cell_type": "code",
   "execution_count": 131,
   "metadata": {
    "colab": {},
    "colab_type": "code",
    "id": "lev6TH7gVp_4"
   },
   "outputs": [],
   "source": [
    "from datetime import datetime\n",
    "def mon (x):\n",
    "    return datetime.strptime(x, \"%m/%d/%Y\").month"
   ]
  },
  {
   "cell_type": "code",
   "execution_count": 133,
   "metadata": {},
   "outputs": [],
   "source": [
    "data[\"month\"]=data.release_date.apply(mon)"
   ]
  },
  {
   "cell_type": "code",
   "execution_count": 138,
   "metadata": {},
   "outputs": [
    {
     "data": {
      "text/plain": [
       "month\n",
       "1     110\n",
       "2     135\n",
       "5     140\n",
       "7     142\n",
       "11    146\n",
       "6     147\n",
       "4     149\n",
       "3     156\n",
       "8     161\n",
       "10    186\n",
       "12    190\n",
       "9     227\n",
       "Name: imdb_id, dtype: int64"
      ]
     },
     "execution_count": 138,
     "metadata": {},
     "output_type": "execute_result"
    }
   ],
   "source": [
    "data.groupby([\"month\"]).imdb_id.count().sort_values()"
   ]
  },
  {
   "cell_type": "markdown",
   "metadata": {
    "colab_type": "text",
    "id": "uAJsZ_NeVp_7"
   },
   "source": [
    "# 22. Сколько суммарно вышло фильмов летом? (за июнь, июль, август)"
   ]
  },
  {
   "cell_type": "code",
   "execution_count": 139,
   "metadata": {
    "colab": {},
    "colab_type": "code",
    "id": "Aa-hEREoVp_8"
   },
   "outputs": [
    {
     "data": {
      "text/html": [
       "<div>\n",
       "<style scoped>\n",
       "    .dataframe tbody tr th:only-of-type {\n",
       "        vertical-align: middle;\n",
       "    }\n",
       "\n",
       "    .dataframe tbody tr th {\n",
       "        vertical-align: top;\n",
       "    }\n",
       "\n",
       "    .dataframe thead th {\n",
       "        text-align: right;\n",
       "    }\n",
       "</style>\n",
       "<table border=\"1\" class=\"dataframe\">\n",
       "  <thead>\n",
       "    <tr style=\"text-align: right;\">\n",
       "      <th></th>\n",
       "      <th>imdb_id</th>\n",
       "      <th>budget</th>\n",
       "      <th>revenue</th>\n",
       "      <th>original_title</th>\n",
       "      <th>cast</th>\n",
       "      <th>director</th>\n",
       "      <th>tagline</th>\n",
       "      <th>overview</th>\n",
       "      <th>runtime</th>\n",
       "      <th>genres</th>\n",
       "      <th>production_companies</th>\n",
       "      <th>release_date</th>\n",
       "      <th>vote_average</th>\n",
       "      <th>release_year</th>\n",
       "      <th>profit</th>\n",
       "      <th>Action</th>\n",
       "      <th>month</th>\n",
       "    </tr>\n",
       "  </thead>\n",
       "  <tbody>\n",
       "    <tr>\n",
       "      <th>0</th>\n",
       "      <td>tt0369610</td>\n",
       "      <td>150000000</td>\n",
       "      <td>1513528810</td>\n",
       "      <td>Jurassic World</td>\n",
       "      <td>Chris Pratt|Bryce Dallas Howard|Irrfan Khan|Vi...</td>\n",
       "      <td>Colin Trevorrow</td>\n",
       "      <td>The park is open.</td>\n",
       "      <td>Twenty-two years after the events of Jurassic ...</td>\n",
       "      <td>124</td>\n",
       "      <td>Action|Adventure|Science Fiction|Thriller</td>\n",
       "      <td>Universal Studios|Amblin Entertainment|Legenda...</td>\n",
       "      <td>6/9/2015</td>\n",
       "      <td>6.5</td>\n",
       "      <td>2015</td>\n",
       "      <td>1363528810</td>\n",
       "      <td>1</td>\n",
       "      <td>6</td>\n",
       "    </tr>\n",
       "    <tr>\n",
       "      <th>6</th>\n",
       "      <td>tt1340138</td>\n",
       "      <td>155000000</td>\n",
       "      <td>440603537</td>\n",
       "      <td>Terminator Genisys</td>\n",
       "      <td>Arnold Schwarzenegger|Jason Clarke|Emilia Clar...</td>\n",
       "      <td>Alan Taylor</td>\n",
       "      <td>Reset the future</td>\n",
       "      <td>The year is 2029. John Connor, leader of the r...</td>\n",
       "      <td>125</td>\n",
       "      <td>Science Fiction|Action|Thriller|Adventure</td>\n",
       "      <td>Paramount Pictures|Skydance Productions</td>\n",
       "      <td>6/23/2015</td>\n",
       "      <td>5.8</td>\n",
       "      <td>2015</td>\n",
       "      <td>285603537</td>\n",
       "      <td>1</td>\n",
       "      <td>6</td>\n",
       "    </tr>\n",
       "    <tr>\n",
       "      <th>8</th>\n",
       "      <td>tt2293640</td>\n",
       "      <td>74000000</td>\n",
       "      <td>1156730962</td>\n",
       "      <td>Minions</td>\n",
       "      <td>Sandra Bullock|Jon Hamm|Michael Keaton|Allison...</td>\n",
       "      <td>Kyle Balda|Pierre Coffin</td>\n",
       "      <td>Before Gru, they had a history of bad bosses</td>\n",
       "      <td>Minions Stuart, Kevin and Bob are recruited by...</td>\n",
       "      <td>91</td>\n",
       "      <td>Family|Animation|Adventure|Comedy</td>\n",
       "      <td>Universal Pictures|Illumination Entertainment</td>\n",
       "      <td>6/17/2015</td>\n",
       "      <td>6.5</td>\n",
       "      <td>2015</td>\n",
       "      <td>1082730962</td>\n",
       "      <td>0</td>\n",
       "      <td>6</td>\n",
       "    </tr>\n",
       "    <tr>\n",
       "      <th>9</th>\n",
       "      <td>tt2096673</td>\n",
       "      <td>175000000</td>\n",
       "      <td>853708609</td>\n",
       "      <td>Inside Out</td>\n",
       "      <td>Amy Poehler|Phyllis Smith|Richard Kind|Bill Ha...</td>\n",
       "      <td>Pete Docter</td>\n",
       "      <td>Meet the little voices inside your head.</td>\n",
       "      <td>Growing up can be a bumpy road, and it's no ex...</td>\n",
       "      <td>94</td>\n",
       "      <td>Comedy|Animation|Family</td>\n",
       "      <td>Walt Disney Pictures|Pixar Animation Studios|W...</td>\n",
       "      <td>6/9/2015</td>\n",
       "      <td>8.0</td>\n",
       "      <td>2015</td>\n",
       "      <td>678708609</td>\n",
       "      <td>0</td>\n",
       "      <td>6</td>\n",
       "    </tr>\n",
       "    <tr>\n",
       "      <th>13</th>\n",
       "      <td>tt2120120</td>\n",
       "      <td>88000000</td>\n",
       "      <td>243637091</td>\n",
       "      <td>Pixels</td>\n",
       "      <td>Adam Sandler|Michelle Monaghan|Peter Dinklage|...</td>\n",
       "      <td>Chris Columbus</td>\n",
       "      <td>Game On.</td>\n",
       "      <td>Video game experts are recruited by the milita...</td>\n",
       "      <td>105</td>\n",
       "      <td>Action|Comedy|Science Fiction</td>\n",
       "      <td>Columbia Pictures|Happy Madison Productions</td>\n",
       "      <td>7/16/2015</td>\n",
       "      <td>5.8</td>\n",
       "      <td>2015</td>\n",
       "      <td>155637091</td>\n",
       "      <td>1</td>\n",
       "      <td>7</td>\n",
       "    </tr>\n",
       "    <tr>\n",
       "      <th>...</th>\n",
       "      <td>...</td>\n",
       "      <td>...</td>\n",
       "      <td>...</td>\n",
       "      <td>...</td>\n",
       "      <td>...</td>\n",
       "      <td>...</td>\n",
       "      <td>...</td>\n",
       "      <td>...</td>\n",
       "      <td>...</td>\n",
       "      <td>...</td>\n",
       "      <td>...</td>\n",
       "      <td>...</td>\n",
       "      <td>...</td>\n",
       "      <td>...</td>\n",
       "      <td>...</td>\n",
       "      <td>...</td>\n",
       "      <td>...</td>\n",
       "    </tr>\n",
       "    <tr>\n",
       "      <th>1873</th>\n",
       "      <td>tt0160009</td>\n",
       "      <td>40000000</td>\n",
       "      <td>30199105</td>\n",
       "      <td>The Art of War</td>\n",
       "      <td>Wesley Snipes|Donald Sutherland|Maury Chaykin|...</td>\n",
       "      <td>Christian Duguay</td>\n",
       "      <td>Who is your foe?</td>\n",
       "      <td>When ruthless terrorists threaten to bring dow...</td>\n",
       "      <td>117</td>\n",
       "      <td>Action|Adventure|Thriller</td>\n",
       "      <td>Amen Ra Films|Franchise Pictures|Warner Bros.|...</td>\n",
       "      <td>8/23/2000</td>\n",
       "      <td>5.7</td>\n",
       "      <td>2000</td>\n",
       "      <td>-9800895</td>\n",
       "      <td>1</td>\n",
       "      <td>8</td>\n",
       "    </tr>\n",
       "    <tr>\n",
       "      <th>1875</th>\n",
       "      <td>tt0219854</td>\n",
       "      <td>65000000</td>\n",
       "      <td>69700000</td>\n",
       "      <td>The Kid</td>\n",
       "      <td>Bruce Willis|Spencer Breslin|Emily Mortimer|Li...</td>\n",
       "      <td>Jon Turteltaub</td>\n",
       "      <td>Nobody ever grows up quite like they imagined.</td>\n",
       "      <td>Powerful businessman Russ Duritz is self-absor...</td>\n",
       "      <td>104</td>\n",
       "      <td>Fantasy|Comedy|Family</td>\n",
       "      <td>Walt Disney Pictures</td>\n",
       "      <td>7/7/2000</td>\n",
       "      <td>5.9</td>\n",
       "      <td>2000</td>\n",
       "      <td>4700000</td>\n",
       "      <td>0</td>\n",
       "      <td>7</td>\n",
       "    </tr>\n",
       "    <tr>\n",
       "      <th>1884</th>\n",
       "      <td>tt0120903</td>\n",
       "      <td>75000000</td>\n",
       "      <td>157299717</td>\n",
       "      <td>X-Men</td>\n",
       "      <td>Patrick Stewart|Hugh Jackman|Ian McKellen|Hall...</td>\n",
       "      <td>Bryan Singer</td>\n",
       "      <td>Evolution Begins</td>\n",
       "      <td>Two mutants, Rogue and Wolverine, come to a pr...</td>\n",
       "      <td>104</td>\n",
       "      <td>Adventure|Action|Science Fiction</td>\n",
       "      <td>Twentieth Century Fox Film Corporation|Donners...</td>\n",
       "      <td>7/13/2000</td>\n",
       "      <td>6.6</td>\n",
       "      <td>2000</td>\n",
       "      <td>82299717</td>\n",
       "      <td>1</td>\n",
       "      <td>7</td>\n",
       "    </tr>\n",
       "    <tr>\n",
       "      <th>1886</th>\n",
       "      <td>tt0131704</td>\n",
       "      <td>76000000</td>\n",
       "      <td>35134820</td>\n",
       "      <td>The Adventures of Rocky &amp; Bullwinkle</td>\n",
       "      <td>Rene Russo|Jason Alexander|Piper Perabo|Randy ...</td>\n",
       "      <td>Des McAnuff</td>\n",
       "      <td>This summer it's not the same old bull.</td>\n",
       "      <td>Rocky and Bullwinkle have been living off the ...</td>\n",
       "      <td>88</td>\n",
       "      <td>Adventure|Animation|Action|Comedy|Family</td>\n",
       "      <td>Universal Pictures|Capella International|KC Me...</td>\n",
       "      <td>6/30/2000</td>\n",
       "      <td>4.0</td>\n",
       "      <td>2000</td>\n",
       "      <td>-40865180</td>\n",
       "      <td>1</td>\n",
       "      <td>6</td>\n",
       "    </tr>\n",
       "    <tr>\n",
       "      <th>1888</th>\n",
       "      <td>tt0163676</td>\n",
       "      <td>15000000</td>\n",
       "      <td>5217498</td>\n",
       "      <td>The In Crowd</td>\n",
       "      <td>Susan Ward|Lori Heuring|Matthew Settle|Nathan ...</td>\n",
       "      <td>Mary Lambert</td>\n",
       "      <td>What would you do to get in?</td>\n",
       "      <td>A mentally disturbed young woman takes a job a...</td>\n",
       "      <td>105</td>\n",
       "      <td>Thriller</td>\n",
       "      <td>Warner Bros. Pictures</td>\n",
       "      <td>7/19/2000</td>\n",
       "      <td>5.2</td>\n",
       "      <td>2000</td>\n",
       "      <td>-9782502</td>\n",
       "      <td>0</td>\n",
       "      <td>7</td>\n",
       "    </tr>\n",
       "  </tbody>\n",
       "</table>\n",
       "<p>450 rows × 17 columns</p>\n",
       "</div>"
      ],
      "text/plain": [
       "        imdb_id     budget     revenue                        original_title  \\\n",
       "0     tt0369610  150000000  1513528810                        Jurassic World   \n",
       "6     tt1340138  155000000   440603537                    Terminator Genisys   \n",
       "8     tt2293640   74000000  1156730962                               Minions   \n",
       "9     tt2096673  175000000   853708609                            Inside Out   \n",
       "13    tt2120120   88000000   243637091                                Pixels   \n",
       "...         ...        ...         ...                                   ...   \n",
       "1873  tt0160009   40000000    30199105                        The Art of War   \n",
       "1875  tt0219854   65000000    69700000                               The Kid   \n",
       "1884  tt0120903   75000000   157299717                                 X-Men   \n",
       "1886  tt0131704   76000000    35134820  The Adventures of Rocky & Bullwinkle   \n",
       "1888  tt0163676   15000000     5217498                          The In Crowd   \n",
       "\n",
       "                                                   cast  \\\n",
       "0     Chris Pratt|Bryce Dallas Howard|Irrfan Khan|Vi...   \n",
       "6     Arnold Schwarzenegger|Jason Clarke|Emilia Clar...   \n",
       "8     Sandra Bullock|Jon Hamm|Michael Keaton|Allison...   \n",
       "9     Amy Poehler|Phyllis Smith|Richard Kind|Bill Ha...   \n",
       "13    Adam Sandler|Michelle Monaghan|Peter Dinklage|...   \n",
       "...                                                 ...   \n",
       "1873  Wesley Snipes|Donald Sutherland|Maury Chaykin|...   \n",
       "1875  Bruce Willis|Spencer Breslin|Emily Mortimer|Li...   \n",
       "1884  Patrick Stewart|Hugh Jackman|Ian McKellen|Hall...   \n",
       "1886  Rene Russo|Jason Alexander|Piper Perabo|Randy ...   \n",
       "1888  Susan Ward|Lori Heuring|Matthew Settle|Nathan ...   \n",
       "\n",
       "                      director  \\\n",
       "0              Colin Trevorrow   \n",
       "6                  Alan Taylor   \n",
       "8     Kyle Balda|Pierre Coffin   \n",
       "9                  Pete Docter   \n",
       "13              Chris Columbus   \n",
       "...                        ...   \n",
       "1873          Christian Duguay   \n",
       "1875            Jon Turteltaub   \n",
       "1884              Bryan Singer   \n",
       "1886               Des McAnuff   \n",
       "1888              Mary Lambert   \n",
       "\n",
       "                                             tagline  \\\n",
       "0                                  The park is open.   \n",
       "6                                   Reset the future   \n",
       "8       Before Gru, they had a history of bad bosses   \n",
       "9           Meet the little voices inside your head.   \n",
       "13                                          Game On.   \n",
       "...                                              ...   \n",
       "1873                                Who is your foe?   \n",
       "1875  Nobody ever grows up quite like they imagined.   \n",
       "1884                                Evolution Begins   \n",
       "1886         This summer it's not the same old bull.   \n",
       "1888                    What would you do to get in?   \n",
       "\n",
       "                                               overview  runtime  \\\n",
       "0     Twenty-two years after the events of Jurassic ...      124   \n",
       "6     The year is 2029. John Connor, leader of the r...      125   \n",
       "8     Minions Stuart, Kevin and Bob are recruited by...       91   \n",
       "9     Growing up can be a bumpy road, and it's no ex...       94   \n",
       "13    Video game experts are recruited by the milita...      105   \n",
       "...                                                 ...      ...   \n",
       "1873  When ruthless terrorists threaten to bring dow...      117   \n",
       "1875  Powerful businessman Russ Duritz is self-absor...      104   \n",
       "1884  Two mutants, Rogue and Wolverine, come to a pr...      104   \n",
       "1886  Rocky and Bullwinkle have been living off the ...       88   \n",
       "1888  A mentally disturbed young woman takes a job a...      105   \n",
       "\n",
       "                                         genres  \\\n",
       "0     Action|Adventure|Science Fiction|Thriller   \n",
       "6     Science Fiction|Action|Thriller|Adventure   \n",
       "8             Family|Animation|Adventure|Comedy   \n",
       "9                       Comedy|Animation|Family   \n",
       "13                Action|Comedy|Science Fiction   \n",
       "...                                         ...   \n",
       "1873                  Action|Adventure|Thriller   \n",
       "1875                      Fantasy|Comedy|Family   \n",
       "1884           Adventure|Action|Science Fiction   \n",
       "1886   Adventure|Animation|Action|Comedy|Family   \n",
       "1888                                   Thriller   \n",
       "\n",
       "                                   production_companies release_date  \\\n",
       "0     Universal Studios|Amblin Entertainment|Legenda...     6/9/2015   \n",
       "6               Paramount Pictures|Skydance Productions    6/23/2015   \n",
       "8         Universal Pictures|Illumination Entertainment    6/17/2015   \n",
       "9     Walt Disney Pictures|Pixar Animation Studios|W...     6/9/2015   \n",
       "13          Columbia Pictures|Happy Madison Productions    7/16/2015   \n",
       "...                                                 ...          ...   \n",
       "1873  Amen Ra Films|Franchise Pictures|Warner Bros.|...    8/23/2000   \n",
       "1875                               Walt Disney Pictures     7/7/2000   \n",
       "1884  Twentieth Century Fox Film Corporation|Donners...    7/13/2000   \n",
       "1886  Universal Pictures|Capella International|KC Me...    6/30/2000   \n",
       "1888                              Warner Bros. Pictures    7/19/2000   \n",
       "\n",
       "      vote_average  release_year      profit  Action  month  \n",
       "0              6.5          2015  1363528810       1      6  \n",
       "6              5.8          2015   285603537       1      6  \n",
       "8              6.5          2015  1082730962       0      6  \n",
       "9              8.0          2015   678708609       0      6  \n",
       "13             5.8          2015   155637091       1      7  \n",
       "...            ...           ...         ...     ...    ...  \n",
       "1873           5.7          2000    -9800895       1      8  \n",
       "1875           5.9          2000     4700000       0      7  \n",
       "1884           6.6          2000    82299717       1      7  \n",
       "1886           4.0          2000   -40865180       1      6  \n",
       "1888           5.2          2000    -9782502       0      7  \n",
       "\n",
       "[450 rows x 17 columns]"
      ]
     },
     "execution_count": 139,
     "metadata": {},
     "output_type": "execute_result"
    }
   ],
   "source": [
    "data.query(\"month in (6,7,8)\")"
   ]
  },
  {
   "cell_type": "markdown",
   "metadata": {
    "colab_type": "text",
    "id": "G94ppOY1VqAA"
   },
   "source": [
    "# 23. Для какого режиссера зима – самое продуктивное время года? "
   ]
  },
  {
   "cell_type": "code",
   "execution_count": 141,
   "metadata": {
    "colab": {},
    "colab_type": "code",
    "id": "RhNTsamuVqAB"
   },
   "outputs": [
    {
     "data": {
      "text/plain": [
       "Peter Jackson        7\n",
       "Steven Soderbergh    6\n",
       "Clint Eastwood       6\n",
       "Nancy Meyers         4\n",
       "Shawn Levy           4\n",
       "                    ..\n",
       "Rob Letterman        1\n",
       "JosÃ© Padilha        1\n",
       "Matt Reeves          1\n",
       "Callan Brunker       1\n",
       "Anthony Hemingway    1\n",
       "Name: director, Length: 332, dtype: int64"
      ]
     },
     "execution_count": 141,
     "metadata": {},
     "output_type": "execute_result"
    }
   ],
   "source": [
    "data.query(\"month in (1,2,12)\").director.value_counts()"
   ]
  },
  {
   "cell_type": "markdown",
   "metadata": {
    "colab_type": "text",
    "id": "RBo0JVjVVqAF"
   },
   "source": [
    "# 24. Какая студия дает самые длинные названия своим фильмам по количеству символов?"
   ]
  },
  {
   "cell_type": "code",
   "execution_count": 161,
   "metadata": {
    "colab": {},
    "colab_type": "code",
    "id": "QRGS8L0iVqAG"
   },
   "outputs": [],
   "source": [
    "data[\"len\"]=data.original_title.str.len()"
   ]
  },
  {
   "cell_type": "code",
   "execution_count": 184,
   "metadata": {},
   "outputs": [],
   "source": [
    "dct={}\n",
    "for x,ind in zip(data.production_companies,data.index):\n",
    "    for i in x.split('|'):\n",
    "        #print(i)\n",
    "        if i in dct.keys():\n",
    "                dct[i].append(int(data.iloc[ind,17]))\n",
    "            #if i==\"Walt Disney Pictures\":\n",
    "            #    print(ind,data.iloc[ind,17])\n",
    "              #  print(type(dct[i]),dct[i])\n",
    "        else:   \n",
    "            dct[i]=[data.iloc[ind,17]]#data.iloc[ind,17]\n",
    "            #if i==\"Walt Disney Pictures\":\n",
    "                #print(ind)\n",
    "               # print(type(dct[i]))"
   ]
  },
  {
   "cell_type": "code",
   "execution_count": 189,
   "metadata": {},
   "outputs": [
    {
     "name": "stdout",
     "output_type": "stream",
     "text": [
      "Four By Two Productions\n"
     ]
    }
   ],
   "source": [
    "import numpy as np\n",
    "name=''\n",
    "value=0\n",
    "for i,j in dct.items():\n",
    "    if np.mean(j)>value:\n",
    "        value=np.mean(j)\n",
    "        name=i\n",
    "print(name)\n",
    "    "
   ]
  },
  {
   "cell_type": "markdown",
   "metadata": {
    "colab_type": "text",
    "id": "9G0hbvR7VqAK"
   },
   "source": [
    "# 25. Описание фильмов какой студии в среднем самые длинные по количеству слов?"
   ]
  },
  {
   "cell_type": "code",
   "execution_count": 205,
   "metadata": {},
   "outputs": [],
   "source": [
    "#data[\"len\"]=data.original_title.str.len()\n",
    "data[\"len_overview\"]=data.overview.str.len()"
   ]
  },
  {
   "cell_type": "code",
   "execution_count": 206,
   "metadata": {},
   "outputs": [],
   "source": [
    "dct={}\n",
    "for x,ind in zip(data.production_companies,data.index):\n",
    "    for i in x.split('|'):\n",
    "        #print(i)\n",
    "        if i in dct.keys():\n",
    "                dct[i].append(int(data.iloc[ind,18]))\n",
    "            #if i==\"Walt Disney Pictures\":\n",
    "            #    print(ind,data.iloc[ind,17])\n",
    "              #  print(type(dct[i]),dct[i])\n",
    "        else:   \n",
    "            dct[i]=[data.iloc[ind,18]]#data.iloc[ind,17]\n",
    "            #if i==\"Walt Disney Pictures\":\n",
    "                #print(ind)\n",
    "               # print(type(dct[i]))"
   ]
  },
  {
   "cell_type": "code",
   "execution_count": 207,
   "metadata": {},
   "outputs": [
    {
     "name": "stdout",
     "output_type": "stream",
     "text": [
      "Midnight Picture Show\n"
     ]
    }
   ],
   "source": [
    "import numpy as np\n",
    "name=''\n",
    "value=0\n",
    "for i,j in dct.items():\n",
    "    if np.mean(j)>value:\n",
    "        value=np.mean(j)\n",
    "        name=i\n",
    "print(name)"
   ]
  },
  {
   "cell_type": "markdown",
   "metadata": {
    "colab_type": "text",
    "id": "FJ1AFt90VqAP"
   },
   "source": [
    "# 26. Какие фильмы входят в 1 процент лучших по рейтингу? \n",
    "по vote_average"
   ]
  },
  {
   "cell_type": "code",
   "execution_count": 7,
   "metadata": {
    "colab": {},
    "colab_type": "code",
    "id": "8qmJVq4CVqAQ"
   },
   "outputs": [
    {
     "data": {
      "text/html": [
       "<div>\n",
       "<style scoped>\n",
       "    .dataframe tbody tr th:only-of-type {\n",
       "        vertical-align: middle;\n",
       "    }\n",
       "\n",
       "    .dataframe tbody tr th {\n",
       "        vertical-align: top;\n",
       "    }\n",
       "\n",
       "    .dataframe thead th {\n",
       "        text-align: right;\n",
       "    }\n",
       "</style>\n",
       "<table border=\"1\" class=\"dataframe\">\n",
       "  <thead>\n",
       "    <tr style=\"text-align: right;\">\n",
       "      <th></th>\n",
       "      <th>imdb_id</th>\n",
       "      <th>budget</th>\n",
       "      <th>revenue</th>\n",
       "      <th>original_title</th>\n",
       "      <th>cast</th>\n",
       "      <th>director</th>\n",
       "      <th>tagline</th>\n",
       "      <th>overview</th>\n",
       "      <th>runtime</th>\n",
       "      <th>genres</th>\n",
       "      <th>production_companies</th>\n",
       "      <th>release_date</th>\n",
       "      <th>vote_average</th>\n",
       "      <th>release_year</th>\n",
       "    </tr>\n",
       "  </thead>\n",
       "  <tbody>\n",
       "    <tr>\n",
       "      <th>709</th>\n",
       "      <td>tt1213644</td>\n",
       "      <td>25000000</td>\n",
       "      <td>14109284</td>\n",
       "      <td>Disaster Movie</td>\n",
       "      <td>Matt Lanter|Vanessa Lachey|Nicole Ari Parker|C...</td>\n",
       "      <td>Jason Friedberg|Aaron Seltzer</td>\n",
       "      <td>Your favorite movies are going to be destroyed.</td>\n",
       "      <td>In DISASTER MOVIE, the filmmaking team behind ...</td>\n",
       "      <td>87</td>\n",
       "      <td>Action|Comedy</td>\n",
       "      <td>Grosvenor Park Media Ltd.|LionsGate|3 in the Box</td>\n",
       "      <td>8/29/2008</td>\n",
       "      <td>3.3</td>\n",
       "      <td>2008</td>\n",
       "    </tr>\n",
       "    <tr>\n",
       "      <th>965</th>\n",
       "      <td>tt0295254</td>\n",
       "      <td>40000000</td>\n",
       "      <td>18902015</td>\n",
       "      <td>FearDotCom</td>\n",
       "      <td>Stephen Dorff|Natascha McElhone|Stephen Rea|Ud...</td>\n",
       "      <td>William Malone</td>\n",
       "      <td>The last site you'll ever see.</td>\n",
       "      <td>With four corpses on his hands, New York City ...</td>\n",
       "      <td>101</td>\n",
       "      <td>Horror|Thriller</td>\n",
       "      <td>Milagro Films|Franchise Pictures|DoRo Fiction ...</td>\n",
       "      <td>8/9/2002</td>\n",
       "      <td>3.3</td>\n",
       "      <td>2002</td>\n",
       "    </tr>\n",
       "    <tr>\n",
       "      <th>1161</th>\n",
       "      <td>tt0317676</td>\n",
       "      <td>7000000</td>\n",
       "      <td>13818181</td>\n",
       "      <td>House of the Dead</td>\n",
       "      <td>Jonathan Cherry|Tyron Leitso|Clint Howard|Ona ...</td>\n",
       "      <td>Uwe Boll</td>\n",
       "      <td>You won't last the night.</td>\n",
       "      <td>Set on an island off the coast, a techno rave ...</td>\n",
       "      <td>90</td>\n",
       "      <td>Horror|Action|Thriller</td>\n",
       "      <td>Boll Kino Beteiligungs GmbH &amp; Co. KG|Brightlig...</td>\n",
       "      <td>4/11/2003</td>\n",
       "      <td>3.4</td>\n",
       "      <td>2003</td>\n",
       "    </tr>\n",
       "    <tr>\n",
       "      <th>1760</th>\n",
       "      <td>tt0799949</td>\n",
       "      <td>20000000</td>\n",
       "      <td>86865564</td>\n",
       "      <td>Epic Movie</td>\n",
       "      <td>Kal Penn|Adam Campbell|Jennifer Coolidge|Jayma...</td>\n",
       "      <td>Jason Friedberg|Aaron Seltzer</td>\n",
       "      <td>We know it's big. We measured.</td>\n",
       "      <td>When Edward, Peter, Lucy and Susan each follow...</td>\n",
       "      <td>86</td>\n",
       "      <td>Action|Adventure|Comedy</td>\n",
       "      <td>Twentieth Century Fox Film Corporation|Regency...</td>\n",
       "      <td>1/25/2007</td>\n",
       "      <td>3.4</td>\n",
       "      <td>2007</td>\n",
       "    </tr>\n",
       "    <tr>\n",
       "      <th>1175</th>\n",
       "      <td>tt0339034</td>\n",
       "      <td>12000000</td>\n",
       "      <td>4922166</td>\n",
       "      <td>From Justin to Kelly</td>\n",
       "      <td>Kelly Clarkson|Justin Guarini |Brandon Hensche...</td>\n",
       "      <td>Robert Iscove</td>\n",
       "      <td>The tale of two American Idols.</td>\n",
       "      <td>A lonely, sexually repressed man. A depressed ...</td>\n",
       "      <td>90</td>\n",
       "      <td>Comedy|Romance</td>\n",
       "      <td>20th Century Fox</td>\n",
       "      <td>6/20/2003</td>\n",
       "      <td>3.5</td>\n",
       "      <td>2003</td>\n",
       "    </tr>\n",
       "    <tr>\n",
       "      <th>...</th>\n",
       "      <td>...</td>\n",
       "      <td>...</td>\n",
       "      <td>...</td>\n",
       "      <td>...</td>\n",
       "      <td>...</td>\n",
       "      <td>...</td>\n",
       "      <td>...</td>\n",
       "      <td>...</td>\n",
       "      <td>...</td>\n",
       "      <td>...</td>\n",
       "      <td>...</td>\n",
       "      <td>...</td>\n",
       "      <td>...</td>\n",
       "      <td>...</td>\n",
       "    </tr>\n",
       "    <tr>\n",
       "      <th>34</th>\n",
       "      <td>tt3170832</td>\n",
       "      <td>6000000</td>\n",
       "      <td>35401758</td>\n",
       "      <td>Room</td>\n",
       "      <td>Brie Larson|Jacob Tremblay|Joan Allen|Sean Bri...</td>\n",
       "      <td>Lenny Abrahamson</td>\n",
       "      <td>Love knows no boundaries</td>\n",
       "      <td>Jack is a young boy of 5 years old who has liv...</td>\n",
       "      <td>117</td>\n",
       "      <td>Drama|Thriller</td>\n",
       "      <td>Element Pictures|No Trace Camping|A24|Duperele...</td>\n",
       "      <td>10/16/2015</td>\n",
       "      <td>8.0</td>\n",
       "      <td>2015</td>\n",
       "    </tr>\n",
       "    <tr>\n",
       "      <th>118</th>\n",
       "      <td>tt0816692</td>\n",
       "      <td>165000000</td>\n",
       "      <td>621752480</td>\n",
       "      <td>Interstellar</td>\n",
       "      <td>Matthew McConaughey|Jessica Chastain|Anne Hath...</td>\n",
       "      <td>Christopher Nolan</td>\n",
       "      <td>Mankind was born on Earth. It was never meant ...</td>\n",
       "      <td>Interstellar chronicles the adventures of a gr...</td>\n",
       "      <td>169</td>\n",
       "      <td>Adventure|Drama|Science Fiction</td>\n",
       "      <td>Paramount Pictures|Legendary Pictures|Warner B...</td>\n",
       "      <td>11/5/2014</td>\n",
       "      <td>8.0</td>\n",
       "      <td>2014</td>\n",
       "    </tr>\n",
       "    <tr>\n",
       "      <th>9</th>\n",
       "      <td>tt2096673</td>\n",
       "      <td>175000000</td>\n",
       "      <td>853708609</td>\n",
       "      <td>Inside Out</td>\n",
       "      <td>Amy Poehler|Phyllis Smith|Richard Kind|Bill Ha...</td>\n",
       "      <td>Pete Docter</td>\n",
       "      <td>Meet the little voices inside your head.</td>\n",
       "      <td>Growing up can be a bumpy road, and it's no ex...</td>\n",
       "      <td>94</td>\n",
       "      <td>Comedy|Animation|Family</td>\n",
       "      <td>Walt Disney Pictures|Pixar Animation Studios|W...</td>\n",
       "      <td>6/9/2015</td>\n",
       "      <td>8.0</td>\n",
       "      <td>2015</td>\n",
       "    </tr>\n",
       "    <tr>\n",
       "      <th>125</th>\n",
       "      <td>tt2084970</td>\n",
       "      <td>14000000</td>\n",
       "      <td>233555708</td>\n",
       "      <td>The Imitation Game</td>\n",
       "      <td>Benedict Cumberbatch|Keira Knightley|Matthew G...</td>\n",
       "      <td>Morten Tyldum</td>\n",
       "      <td>The true enigma was the man who cracked the code.</td>\n",
       "      <td>Based on the real life story of legendary cryp...</td>\n",
       "      <td>113</td>\n",
       "      <td>History|Drama|Thriller|War</td>\n",
       "      <td>Black Bear Pictures|Bristol Automotive</td>\n",
       "      <td>11/14/2014</td>\n",
       "      <td>8.0</td>\n",
       "      <td>2014</td>\n",
       "    </tr>\n",
       "    <tr>\n",
       "      <th>599</th>\n",
       "      <td>tt0468569</td>\n",
       "      <td>185000000</td>\n",
       "      <td>1001921825</td>\n",
       "      <td>The Dark Knight</td>\n",
       "      <td>Christian Bale|Michael Caine|Heath Ledger|Aaro...</td>\n",
       "      <td>Christopher Nolan</td>\n",
       "      <td>Why So Serious?</td>\n",
       "      <td>Batman raises the stakes in his war on crime. ...</td>\n",
       "      <td>152</td>\n",
       "      <td>Drama|Action|Crime|Thriller</td>\n",
       "      <td>DC Comics|Legendary Pictures|Warner Bros.|Syncopy</td>\n",
       "      <td>7/16/2008</td>\n",
       "      <td>8.1</td>\n",
       "      <td>2008</td>\n",
       "    </tr>\n",
       "  </tbody>\n",
       "</table>\n",
       "<p>1889 rows × 14 columns</p>\n",
       "</div>"
      ],
      "text/plain": [
       "        imdb_id     budget     revenue        original_title  \\\n",
       "709   tt1213644   25000000    14109284        Disaster Movie   \n",
       "965   tt0295254   40000000    18902015            FearDotCom   \n",
       "1161  tt0317676    7000000    13818181     House of the Dead   \n",
       "1760  tt0799949   20000000    86865564            Epic Movie   \n",
       "1175  tt0339034   12000000     4922166  From Justin to Kelly   \n",
       "...         ...        ...         ...                   ...   \n",
       "34    tt3170832    6000000    35401758                  Room   \n",
       "118   tt0816692  165000000   621752480          Interstellar   \n",
       "9     tt2096673  175000000   853708609            Inside Out   \n",
       "125   tt2084970   14000000   233555708    The Imitation Game   \n",
       "599   tt0468569  185000000  1001921825       The Dark Knight   \n",
       "\n",
       "                                                   cast  \\\n",
       "709   Matt Lanter|Vanessa Lachey|Nicole Ari Parker|C...   \n",
       "965   Stephen Dorff|Natascha McElhone|Stephen Rea|Ud...   \n",
       "1161  Jonathan Cherry|Tyron Leitso|Clint Howard|Ona ...   \n",
       "1760  Kal Penn|Adam Campbell|Jennifer Coolidge|Jayma...   \n",
       "1175  Kelly Clarkson|Justin Guarini |Brandon Hensche...   \n",
       "...                                                 ...   \n",
       "34    Brie Larson|Jacob Tremblay|Joan Allen|Sean Bri...   \n",
       "118   Matthew McConaughey|Jessica Chastain|Anne Hath...   \n",
       "9     Amy Poehler|Phyllis Smith|Richard Kind|Bill Ha...   \n",
       "125   Benedict Cumberbatch|Keira Knightley|Matthew G...   \n",
       "599   Christian Bale|Michael Caine|Heath Ledger|Aaro...   \n",
       "\n",
       "                           director  \\\n",
       "709   Jason Friedberg|Aaron Seltzer   \n",
       "965                  William Malone   \n",
       "1161                       Uwe Boll   \n",
       "1760  Jason Friedberg|Aaron Seltzer   \n",
       "1175                  Robert Iscove   \n",
       "...                             ...   \n",
       "34                 Lenny Abrahamson   \n",
       "118               Christopher Nolan   \n",
       "9                       Pete Docter   \n",
       "125                   Morten Tyldum   \n",
       "599               Christopher Nolan   \n",
       "\n",
       "                                                tagline  \\\n",
       "709     Your favorite movies are going to be destroyed.   \n",
       "965                      The last site you'll ever see.   \n",
       "1161                          You won't last the night.   \n",
       "1760                     We know it's big. We measured.   \n",
       "1175                    The tale of two American Idols.   \n",
       "...                                                 ...   \n",
       "34                             Love knows no boundaries   \n",
       "118   Mankind was born on Earth. It was never meant ...   \n",
       "9              Meet the little voices inside your head.   \n",
       "125   The true enigma was the man who cracked the code.   \n",
       "599                                     Why So Serious?   \n",
       "\n",
       "                                               overview  runtime  \\\n",
       "709   In DISASTER MOVIE, the filmmaking team behind ...       87   \n",
       "965   With four corpses on his hands, New York City ...      101   \n",
       "1161  Set on an island off the coast, a techno rave ...       90   \n",
       "1760  When Edward, Peter, Lucy and Susan each follow...       86   \n",
       "1175  A lonely, sexually repressed man. A depressed ...       90   \n",
       "...                                                 ...      ...   \n",
       "34    Jack is a young boy of 5 years old who has liv...      117   \n",
       "118   Interstellar chronicles the adventures of a gr...      169   \n",
       "9     Growing up can be a bumpy road, and it's no ex...       94   \n",
       "125   Based on the real life story of legendary cryp...      113   \n",
       "599   Batman raises the stakes in his war on crime. ...      152   \n",
       "\n",
       "                               genres  \\\n",
       "709                     Action|Comedy   \n",
       "965                   Horror|Thriller   \n",
       "1161           Horror|Action|Thriller   \n",
       "1760          Action|Adventure|Comedy   \n",
       "1175                   Comedy|Romance   \n",
       "...                               ...   \n",
       "34                     Drama|Thriller   \n",
       "118   Adventure|Drama|Science Fiction   \n",
       "9             Comedy|Animation|Family   \n",
       "125        History|Drama|Thriller|War   \n",
       "599       Drama|Action|Crime|Thriller   \n",
       "\n",
       "                                   production_companies release_date  \\\n",
       "709    Grosvenor Park Media Ltd.|LionsGate|3 in the Box    8/29/2008   \n",
       "965   Milagro Films|Franchise Pictures|DoRo Fiction ...     8/9/2002   \n",
       "1161  Boll Kino Beteiligungs GmbH & Co. KG|Brightlig...    4/11/2003   \n",
       "1760  Twentieth Century Fox Film Corporation|Regency...    1/25/2007   \n",
       "1175                                   20th Century Fox    6/20/2003   \n",
       "...                                                 ...          ...   \n",
       "34    Element Pictures|No Trace Camping|A24|Duperele...   10/16/2015   \n",
       "118   Paramount Pictures|Legendary Pictures|Warner B...    11/5/2014   \n",
       "9     Walt Disney Pictures|Pixar Animation Studios|W...     6/9/2015   \n",
       "125              Black Bear Pictures|Bristol Automotive   11/14/2014   \n",
       "599   DC Comics|Legendary Pictures|Warner Bros.|Syncopy    7/16/2008   \n",
       "\n",
       "      vote_average  release_year  \n",
       "709            3.3          2008  \n",
       "965            3.3          2002  \n",
       "1161           3.4          2003  \n",
       "1760           3.4          2007  \n",
       "1175           3.5          2003  \n",
       "...            ...           ...  \n",
       "34             8.0          2015  \n",
       "118            8.0          2014  \n",
       "9              8.0          2015  \n",
       "125            8.0          2014  \n",
       "599            8.1          2008  \n",
       "\n",
       "[1889 rows x 14 columns]"
      ]
     },
     "execution_count": 7,
     "metadata": {},
     "output_type": "execute_result"
    }
   ],
   "source": [
    "data.sort_values(by=\"vote_average\")"
   ]
  },
  {
   "cell_type": "markdown",
   "metadata": {
    "colab_type": "text",
    "id": "MdXsUXbCVqAV"
   },
   "source": [
    "# 27. Какие актеры чаще всего снимаются в одном фильме вместе?\n"
   ]
  },
  {
   "cell_type": "markdown",
   "metadata": {
    "colab_type": "text",
    "id": "4ymnxEVoVqAW"
   },
   "source": [
    "ВАРИАНТ 2"
   ]
  },
  {
   "cell_type": "markdown",
   "metadata": {
    "colab_type": "text",
    "id": "U0nONFnGVqAX"
   },
   "source": [
    "# Submission"
   ]
  },
  {
   "cell_type": "code",
   "execution_count": 4,
   "metadata": {
    "colab": {},
    "colab_type": "code",
    "id": "IfcaRO9-VqAX",
    "outputId": "0f132912-32bb-4196-c98c-abfbc4ad5a5f"
   },
   "outputs": [],
   "source": [
    "# в конце можно посмотреть свои ответы к каждому вопросу\n",
    "answers"
   ]
  },
  {
   "cell_type": "code",
   "execution_count": null,
   "metadata": {
    "colab": {},
    "colab_type": "code",
    "id": "SiRmHPl8VqAd"
   },
   "outputs": [],
   "source": [
    "# и убедиться что ни чего не пропустил)\n",
    "len(answers)"
   ]
  },
  {
   "cell_type": "code",
   "execution_count": 0,
   "metadata": {
    "colab": {},
    "colab_type": "code",
    "id": "uCfuTkRbVqAg"
   },
   "outputs": [],
   "source": []
  },
  {
   "cell_type": "code",
   "execution_count": 0,
   "metadata": {
    "colab": {},
    "colab_type": "code",
    "id": "Vwx3NrkSVqAl"
   },
   "outputs": [],
   "source": []
  }
 ],
 "metadata": {
  "colab": {
   "name": "Copy of [SF-DST] Movies IMBD v4.1 TEMPLATE.ipynb",
   "provenance": []
  },
  "kernelspec": {
   "display_name": "Python 3",
   "language": "python",
   "name": "python3"
  },
  "language_info": {
   "codemirror_mode": {
    "name": "ipython",
    "version": 3
   },
   "file_extension": ".py",
   "mimetype": "text/x-python",
   "name": "python",
   "nbconvert_exporter": "python",
   "pygments_lexer": "ipython3",
   "version": "3.8.3"
  }
 },
 "nbformat": 4,
 "nbformat_minor": 1
}
